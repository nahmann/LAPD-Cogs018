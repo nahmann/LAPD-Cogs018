{
 "cells": [
  {
   "cell_type": "markdown",
   "metadata": {},
   "source": [
    "# COGS 108 - EDA Checkpoint"
   ]
  },
  {
   "attachments": {},
   "cell_type": "markdown",
   "metadata": {},
   "source": [
    "# Names\n",
    "- Alan Miyazaki\n",
    "- Alex Guan\n",
    "- Nathan Ahmann\n",
    "- Renaldy Herlim"
   ]
  },
  {
   "cell_type": "markdown",
   "metadata": {},
   "source": [
    "<a id='research_question'></a>\n",
    "# Research Question"
   ]
  },
  {
   "attachments": {},
   "cell_type": "markdown",
   "metadata": {},
   "source": [
    "Does crime happen more or less frequently around police stations and can that knowledge be used to more effectively distribute police station locations?"
   ]
  },
  {
   "cell_type": "markdown",
   "metadata": {},
   "source": [
    "# Setup"
   ]
  },
  {
   "cell_type": "code",
   "execution_count": 1,
   "metadata": {},
   "outputs": [],
   "source": [
    "import pandas as pd\n",
    "import datetime"
   ]
  },
  {
   "cell_type": "markdown",
   "metadata": {},
   "source": [
    "# Data Cleaning"
   ]
  },
  {
   "cell_type": "markdown",
   "metadata": {},
   "source": [
    "Describe your data cleaning steps here."
   ]
  },
  {
   "cell_type": "code",
   "execution_count": 2,
   "metadata": {},
   "outputs": [],
   "source": [
    "# Reading datasets from two different time periods\n",
    "\n",
    "# https://data.lacity.org/Public-Safety/Crime-Data-from-2010-to-2019/63jg-8b9z\n",
    "past_df = pd.read_csv(\"Crime_Data_from_2010_to_2019.csv\", dtype = {\"TIME OCC\": str})\n",
    "# https://data.lacity.org/Public-Safety/Crime-Data-from-2020-to-Present/2nrs-mtv8\n",
    "present_df = pd.read_csv(\"Crime_Data_from_2020_to_Present.csv\", dtype = {\"TIME OCC\": str})\n",
    "\n",
    "LAPD_df = pd.read_csv(\"LAPD_Police_Stations.csv\")\n",
    "\n",
    "# past dataset has column name typo\n",
    "past_df = past_df.rename(columns={\"AREA \": \"AREA\"})\n",
    "\n",
    "# Both datasets use the same columns \n",
    "df = pd.concat([past_df, present_df])"
   ]
  },
  {
   "cell_type": "code",
   "execution_count": 3,
   "metadata": {},
   "outputs": [],
   "source": [
    "# Dropping code columns since these are internal use and we don't get much \n",
    "# value from them given we have their description in a seperate column\n",
    "df = df.drop(columns=[\n",
    "    \"Crm Cd\", \"Crm Cd 1\", \"Crm Cd 2\", \"Crm Cd 3\", \n",
    "    \"Crm Cd 4\", \"Premis Cd\", \"Weapon Used Cd\", \n",
    "    \"Mocodes\", \"Part 1-2\", \"Status\", \"Date Rptd\"\n",
    "    ])\n",
    "\n",
    "# Changed code to be readable description\n",
    "df[\"Vict Descent\"] = df[\"Vict Descent\"].replace({\n",
    "                            \"A\": \"Other Asian\", \n",
    "                            \"B\": \"Black\", \n",
    "                            \"C\": \"Chinese\", \n",
    "                            \"D\": \"Cambodian\", \n",
    "                            \"F\": \"Filipino\", \n",
    "                            \"G\": \"Guamanian\", \n",
    "                            \"H\": \"Hispanic/Latin/Mexican\", \n",
    "                            \"I\": \"American Indian/Alaskan Native\", \n",
    "                            \"J\": \"Japanese\", \n",
    "                            \"K\": \"Korean\", \n",
    "                            \"L\": \"Laotian\", \n",
    "                            \"O\": \"Other\", \n",
    "                            \"P\": \"Pacific Islander\", \n",
    "                            \"S\": \"Samoan\", \n",
    "                            \"U\": \"Hawaiian\", \n",
    "                            \"V\": \"Vietnamese\", \n",
    "                            \"W\": \"White\", \n",
    "                            \"X\": \"Unknown\", \n",
    "                            \"Z\": \"Asian Indian\",\n",
    "                        })\n",
    "\n",
    "# Renamed X,Y to Longitude, Latitude\n",
    "LAPD_df = LAPD_df.rename(columns={\n",
    "    \"X\": \"Longitude\", \n",
    "    \"Y\": \"Latitude\"\n",
    "    })"
   ]
  },
  {
   "cell_type": "markdown",
   "metadata": {},
   "source": [
    "# Data Analysis & Results (EDA)"
   ]
  },
  {
   "cell_type": "markdown",
   "metadata": {},
   "source": [
    "Carry out EDA on your dataset(s); Describe in this section"
   ]
  },
  {
   "cell_type": "code",
   "execution_count": 4,
   "metadata": {},
   "outputs": [
    {
     "data": {
      "text/html": [
       "<div>\n",
       "<style scoped>\n",
       "    .dataframe tbody tr th:only-of-type {\n",
       "        vertical-align: middle;\n",
       "    }\n",
       "\n",
       "    .dataframe tbody tr th {\n",
       "        vertical-align: top;\n",
       "    }\n",
       "\n",
       "    .dataframe thead th {\n",
       "        text-align: right;\n",
       "    }\n",
       "</style>\n",
       "<table border=\"1\" class=\"dataframe\">\n",
       "  <thead>\n",
       "    <tr style=\"text-align: right;\">\n",
       "      <th></th>\n",
       "      <th>DR_NO</th>\n",
       "      <th>DATE OCC</th>\n",
       "      <th>TIME OCC</th>\n",
       "      <th>AREA</th>\n",
       "      <th>AREA NAME</th>\n",
       "      <th>Rpt Dist No</th>\n",
       "      <th>Crm Cd Desc</th>\n",
       "      <th>Vict Age</th>\n",
       "      <th>Vict Sex</th>\n",
       "      <th>Vict Descent</th>\n",
       "      <th>Premis Desc</th>\n",
       "      <th>Weapon Desc</th>\n",
       "      <th>Status Desc</th>\n",
       "      <th>LOCATION</th>\n",
       "      <th>Cross Street</th>\n",
       "      <th>LAT</th>\n",
       "      <th>LON</th>\n",
       "    </tr>\n",
       "  </thead>\n",
       "  <tbody>\n",
       "    <tr>\n",
       "      <th>0</th>\n",
       "      <td>1307355</td>\n",
       "      <td>02/20/2010 12:00:00 AM</td>\n",
       "      <td>1350</td>\n",
       "      <td>13</td>\n",
       "      <td>Newton</td>\n",
       "      <td>1385</td>\n",
       "      <td>VIOLATION OF COURT ORDER</td>\n",
       "      <td>48</td>\n",
       "      <td>M</td>\n",
       "      <td>Hispanic/Latin/Mexican</td>\n",
       "      <td>SINGLE FAMILY DWELLING</td>\n",
       "      <td>NaN</td>\n",
       "      <td>Adult Arrest</td>\n",
       "      <td>300 E  GAGE                         AV</td>\n",
       "      <td>NaN</td>\n",
       "      <td>33.9825</td>\n",
       "      <td>-118.2695</td>\n",
       "    </tr>\n",
       "    <tr>\n",
       "      <th>1</th>\n",
       "      <td>11401303</td>\n",
       "      <td>09/12/2010 12:00:00 AM</td>\n",
       "      <td>0045</td>\n",
       "      <td>14</td>\n",
       "      <td>Pacific</td>\n",
       "      <td>1485</td>\n",
       "      <td>VANDALISM - FELONY ($400 &amp; OVER, ALL CHURCH VA...</td>\n",
       "      <td>0</td>\n",
       "      <td>M</td>\n",
       "      <td>White</td>\n",
       "      <td>STREET</td>\n",
       "      <td>NaN</td>\n",
       "      <td>Invest Cont</td>\n",
       "      <td>SEPULVEDA                    BL</td>\n",
       "      <td>MANCHESTER                   AV</td>\n",
       "      <td>33.9599</td>\n",
       "      <td>-118.3962</td>\n",
       "    </tr>\n",
       "    <tr>\n",
       "      <th>2</th>\n",
       "      <td>70309629</td>\n",
       "      <td>08/09/2010 12:00:00 AM</td>\n",
       "      <td>1515</td>\n",
       "      <td>13</td>\n",
       "      <td>Newton</td>\n",
       "      <td>1324</td>\n",
       "      <td>OTHER MISCELLANEOUS CRIME</td>\n",
       "      <td>0</td>\n",
       "      <td>M</td>\n",
       "      <td>Hispanic/Latin/Mexican</td>\n",
       "      <td>ALLEY</td>\n",
       "      <td>NaN</td>\n",
       "      <td>Invest Cont</td>\n",
       "      <td>1300 E  21ST                         ST</td>\n",
       "      <td>NaN</td>\n",
       "      <td>34.0224</td>\n",
       "      <td>-118.2524</td>\n",
       "    </tr>\n",
       "    <tr>\n",
       "      <th>3</th>\n",
       "      <td>90631215</td>\n",
       "      <td>01/05/2010 12:00:00 AM</td>\n",
       "      <td>0150</td>\n",
       "      <td>6</td>\n",
       "      <td>Hollywood</td>\n",
       "      <td>646</td>\n",
       "      <td>VIOLATION OF COURT ORDER</td>\n",
       "      <td>47</td>\n",
       "      <td>F</td>\n",
       "      <td>White</td>\n",
       "      <td>STREET</td>\n",
       "      <td>HAND GUN</td>\n",
       "      <td>Invest Cont</td>\n",
       "      <td>CAHUENGA                     BL</td>\n",
       "      <td>HOLLYWOOD                    BL</td>\n",
       "      <td>34.1016</td>\n",
       "      <td>-118.3295</td>\n",
       "    </tr>\n",
       "    <tr>\n",
       "      <th>4</th>\n",
       "      <td>100100501</td>\n",
       "      <td>01/02/2010 12:00:00 AM</td>\n",
       "      <td>2100</td>\n",
       "      <td>1</td>\n",
       "      <td>Central</td>\n",
       "      <td>176</td>\n",
       "      <td>RAPE, ATTEMPTED</td>\n",
       "      <td>47</td>\n",
       "      <td>F</td>\n",
       "      <td>Hispanic/Latin/Mexican</td>\n",
       "      <td>ALLEY</td>\n",
       "      <td>STRONG-ARM (HANDS, FIST, FEET OR BODILY FORCE)</td>\n",
       "      <td>Invest Cont</td>\n",
       "      <td>8TH                          ST</td>\n",
       "      <td>SAN PEDRO                    ST</td>\n",
       "      <td>34.0387</td>\n",
       "      <td>-118.2488</td>\n",
       "    </tr>\n",
       "  </tbody>\n",
       "</table>\n",
       "</div>"
      ],
      "text/plain": [
       "       DR_NO                DATE OCC TIME OCC  AREA  AREA NAME  Rpt Dist No  \\\n",
       "0    1307355  02/20/2010 12:00:00 AM     1350    13     Newton         1385   \n",
       "1   11401303  09/12/2010 12:00:00 AM     0045    14    Pacific         1485   \n",
       "2   70309629  08/09/2010 12:00:00 AM     1515    13     Newton         1324   \n",
       "3   90631215  01/05/2010 12:00:00 AM     0150     6  Hollywood          646   \n",
       "4  100100501  01/02/2010 12:00:00 AM     2100     1    Central          176   \n",
       "\n",
       "                                         Crm Cd Desc  Vict Age Vict Sex  \\\n",
       "0                           VIOLATION OF COURT ORDER        48        M   \n",
       "1  VANDALISM - FELONY ($400 & OVER, ALL CHURCH VA...         0        M   \n",
       "2                          OTHER MISCELLANEOUS CRIME         0        M   \n",
       "3                           VIOLATION OF COURT ORDER        47        F   \n",
       "4                                    RAPE, ATTEMPTED        47        F   \n",
       "\n",
       "             Vict Descent             Premis Desc  \\\n",
       "0  Hispanic/Latin/Mexican  SINGLE FAMILY DWELLING   \n",
       "1                   White                  STREET   \n",
       "2  Hispanic/Latin/Mexican                   ALLEY   \n",
       "3                   White                  STREET   \n",
       "4  Hispanic/Latin/Mexican                   ALLEY   \n",
       "\n",
       "                                      Weapon Desc   Status Desc  \\\n",
       "0                                             NaN  Adult Arrest   \n",
       "1                                             NaN   Invest Cont   \n",
       "2                                             NaN   Invest Cont   \n",
       "3                                        HAND GUN   Invest Cont   \n",
       "4  STRONG-ARM (HANDS, FIST, FEET OR BODILY FORCE)   Invest Cont   \n",
       "\n",
       "                                  LOCATION                     Cross Street  \\\n",
       "0   300 E  GAGE                         AV                              NaN   \n",
       "1          SEPULVEDA                    BL  MANCHESTER                   AV   \n",
       "2  1300 E  21ST                         ST                              NaN   \n",
       "3          CAHUENGA                     BL  HOLLYWOOD                    BL   \n",
       "4          8TH                          ST  SAN PEDRO                    ST   \n",
       "\n",
       "       LAT       LON  \n",
       "0  33.9825 -118.2695  \n",
       "1  33.9599 -118.3962  \n",
       "2  34.0224 -118.2524  \n",
       "3  34.1016 -118.3295  \n",
       "4  34.0387 -118.2488  "
      ]
     },
     "execution_count": 4,
     "metadata": {},
     "output_type": "execute_result"
    }
   ],
   "source": [
    "df.head()"
   ]
  },
  {
   "attachments": {},
   "cell_type": "markdown",
   "metadata": {},
   "source": [
    "One thing that we would be interested in knowing is if there is an equal distribution of crimes between police stations. From this we can see that there is a difference between how many cases each station has handled. This could either mean that some police stations are responsible for a larger area or there are more crimes happening in the areas those stations are covering. "
   ]
  },
  {
   "cell_type": "code",
   "execution_count": 5,
   "metadata": {},
   "outputs": [],
   "source": [
    "import matplotlib.pyplot as plt"
   ]
  },
  {
   "cell_type": "code",
   "execution_count": 6,
   "metadata": {},
   "outputs": [
    {
     "data": {
      "text/plain": [
       "<Axes: >"
      ]
     },
     "execution_count": 6,
     "metadata": {},
     "output_type": "execute_result"
    },
    {
     "data": {
      "image/png": "[encoded data removed]",
      "text/plain": [
       "<Figure size 432x288 with 1 Axes>"
      ]
     },
     "metadata": {
      "needs_background": "light"
     },
     "output_type": "display_data"
    }
   ],
   "source": [
    "df[\"AREA NAME\"].value_counts().plot(kind=\"barh\")"
   ]
  },
  {
   "cell_type": "code",
   "execution_count": 7,
   "metadata": {},
   "outputs": [
    {
     "data": {
      "text/plain": [
       "array(['VIOLATION OF COURT ORDER',\n",
       "       'VANDALISM - FELONY ($400 & OVER, ALL CHURCH VANDALISMS)',\n",
       "       'OTHER MISCELLANEOUS CRIME', 'RAPE, ATTEMPTED',\n",
       "       'SHOPLIFTING - PETTY THEFT ($950 & UNDER)',\n",
       "       'BURGLARY FROM VEHICLE',\n",
       "       'ASSAULT WITH DEADLY WEAPON, AGGRAVATED ASSAULT',\n",
       "       'THEFT-GRAND ($950.01 & OVER)EXCPT,GUNS,FOWL,LIVESTK,PROD',\n",
       "       'BATTERY - SIMPLE ASSAULT', 'ROBBERY', 'BOMB SCARE',\n",
       "       'CHILD NEGLECT (SEE 300 W.I.C.)',\n",
       "       'INTIMATE PARTNER - AGGRAVATED ASSAULT',\n",
       "       'INTIMATE PARTNER - SIMPLE ASSAULT',\n",
       "       'THEFT PLAIN - PETTY ($950 & UNDER)',\n",
       "       'CRIMINAL THREATS - NO WEAPON DISPLAYED', 'ATTEMPTED ROBBERY',\n",
       "       'VANDALISM - MISDEAMEANOR ($399 OR UNDER)', 'BURGLARY', 'ARSON',\n",
       "       'RAPE, FORCIBLE', 'BRANDISH WEAPON',\n",
       "       'THROWING OBJECT AT MOVING VEHICLE',\n",
       "       'SHOPLIFTING-GRAND THEFT ($950.01 & OVER)',\n",
       "       'CHILD ABUSE (PHYSICAL) - SIMPLE ASSAULT',\n",
       "       'SHOTS FIRED AT INHABITED DWELLING', 'VEHICLE - STOLEN',\n",
       "       'KIDNAPPING - GRAND ATTEMPT', 'CRIMINAL HOMICIDE',\n",
       "       'THEFT PLAIN - ATTEMPT', 'THEFT, PERSON', 'TRESPASSING',\n",
       "       'KIDNAPPING', 'VEHICLE - ATTEMPT STOLEN',\n",
       "       'BATTERY WITH SEXUAL CONTACT', 'DOCUMENT FORGERY / STOLEN FELONY',\n",
       "       'BATTERY POLICE (SIMPLE)',\n",
       "       'CHILD ABUSE (PHYSICAL) - AGGRAVATED ASSAULT',\n",
       "       'DISTURBING THE PEACE', 'OTHER ASSAULT',\n",
       "       'VIOLATION OF RESTRAINING ORDER', 'LEWD CONDUCT',\n",
       "       'CRM AGNST CHLD (13 OR UNDER) (14-15 & SUSP 10 YRS OLDER)',\n",
       "       'THEFT OF IDENTITY',\n",
       "       'ASSAULT WITH DEADLY WEAPON ON POLICE OFFICER',\n",
       "       'CHILD ANNOYING (17YRS & UNDER)',\n",
       "       'SODOMY/SEXUAL CONTACT B/W PENIS OF ONE PERS TO ANUS OTH',\n",
       "       'ORAL COPULATION', 'CRUELTY TO ANIMALS',\n",
       "       'THEFT FROM MOTOR VEHICLE - PETTY ($950 & UNDER)',\n",
       "       'LETTERS, LEWD  -  TELEPHONE CALLS, LEWD', 'PEEPING TOM',\n",
       "       'INDECENT EXPOSURE', 'BIKE - STOLEN',\n",
       "       'BURGLARY FROM VEHICLE, ATTEMPTED', 'BURGLARY, ATTEMPTED',\n",
       "       'STALKING', 'THREATENING PHONE CALLS/LETTERS',\n",
       "       'SEX,UNLAWFUL(INC MUTUAL CONSENT, PENETRATION W/ FRGN OBJ',\n",
       "       'BUNCO, PETTY THEFT', 'BUNCO, GRAND THEFT',\n",
       "       'VIOLATION OF TEMPORARY RESTRAINING ORDER',\n",
       "       'EMBEZZLEMENT, GRAND THEFT ($950.01 & OVER)',\n",
       "       'SEXUAL PENETRATION W/FOREIGN OBJECT', 'EXTORTION', 'PICKPOCKET',\n",
       "       'EMBEZZLEMENT, PETTY THEFT ($950 & UNDER)', 'PURSE SNATCHING',\n",
       "       'WEAPONS POSSESSION/BOMBING', 'COUNTERFEIT', 'FALSE IMPRISONMENT',\n",
       "       'CREDIT CARDS, FRAUD USE ($950.01 & OVER)',\n",
       "       'DISCHARGE FIREARMS/SHOTS FIRED', 'THEFT FROM PERSON - ATTEMPT',\n",
       "       'UNAUTHORIZED COMPUTER ACCESS', 'PANDERING', 'PIMPING',\n",
       "       'DRUNK ROLL - ATTEMPT', 'SHOPLIFTING - ATTEMPT',\n",
       "       'RESISTING ARREST', 'DISHONEST EMPLOYEE - GRAND THEFT',\n",
       "       'RECKLESS DRIVING', 'PROWLER',\n",
       "       'CREDIT CARDS, FRAUD USE ($950 & UNDER',\n",
       "       'DOCUMENT WORTHLESS ($200.01 & OVER)', 'CHILD STEALING',\n",
       "       'CONTEMPT OF COURT', 'CONSPIRACY',\n",
       "       'THEFT FROM MOTOR VEHICLE - ATTEMPT', 'DRUNK ROLL',\n",
       "       'BATTERY ON A FIREFIGHTER', 'ILLEGAL DUMPING', 'LYNCHING',\n",
       "       'THEFT, COIN MACHINE - PETTY ($950 & UNDER)',\n",
       "       'GRAND THEFT / INSURANCE FRAUD', 'BUNCO, ATTEMPT',\n",
       "       'DISRUPT SCHOOL', 'THEFT, COIN MACHINE - GRAND ($950.01 & OVER)',\n",
       "       'FALSE POLICE REPORT', 'PURSE SNATCHING - ATTEMPT',\n",
       "       'BOAT - STOLEN',\n",
       "       'SHOTS FIRED AT MOVING VEHICLE, TRAIN OR AIRCRAFT',\n",
       "       'DRIVING WITHOUT OWNER CONSENT (DWOC)', 'CONTRIBUTING',\n",
       "       'FAILURE TO YIELD', 'TILL TAP - ATTEMPT', 'DRUGS, TO A MINOR',\n",
       "       'INCITING A RIOT',\n",
       "       'BEASTIALITY, CRIME AGAINST NATURE SEXUAL ASSLT WITH ANIM',\n",
       "       'BRIBERY', 'THEFT FROM MOTOR VEHICLE - GRAND ($950.01 AND OVER)',\n",
       "       'DEFRAUDING INNKEEPER/THEFT OF SERVICES, $950 & UNDER',\n",
       "       'DEFRAUDING INNKEEPER/THEFT OF SERVICES, OVER $950.01',\n",
       "       'TILL TAP - GRAND THEFT ($950.01 & OVER)', 'LYNCHING - ATTEMPTED',\n",
       "       'SEX OFFENDER REGISTRANT OUT OF COMPLIANCE', 'CHILD ABANDONMENT',\n",
       "       'LEWD/LASCIVIOUS ACTS WITH CHILD',\n",
       "       'DISHONEST EMPLOYEE - PETTY THEFT', 'TELEPHONE PROPERTY - DAMAGE',\n",
       "       'PICKPOCKET, ATTEMPT', 'TILL TAP - PETTY ($950 & UNDER)',\n",
       "       'DOCUMENT WORTHLESS ($200 & UNDER)',\n",
       "       'HUMAN TRAFFICKING - COMMERCIAL SEX ACTS',\n",
       "       'MANSLAUGHTER, NEGLIGENT', 'GRAND THEFT / AUTO REPAIR', 'BIGAMY',\n",
       "       'THEFT, COIN MACHINE - ATTEMPT', 'PETTY THEFT - AUTO REPAIR',\n",
       "       'BIKE - ATTEMPTED STOLEN', 'FAILURE TO DISPERSE',\n",
       "       'REPLICA FIREARMS(SALE,DISPLAY,MANUFACTURE OR DISTRIBUTE)',\n",
       "       'HUMAN TRAFFICKING - INVOLUNTARY SERVITUDE', 'CHILD PORNOGRAPHY',\n",
       "       'ABORTION/ILLEGAL', 'INCEST (SEXUAL ACTS BETWEEN BLOOD RELATIVES)',\n",
       "       'DISHONEST EMPLOYEE ATTEMPTED THEFT', 'TRAIN WRECKING',\n",
       "       'BLOCKING DOOR INDUCTION CENTER',\n",
       "       'FIREARMS RESTRAINING ORDER (FIREARMS RO)',\n",
       "       'VEHICLE - MOTORIZED SCOOTERS, BICYCLES, AND WHEELCHAIRS',\n",
       "       'FIREARMS TEMPORARY RESTRAINING ORDER (TEMP FIREARMS RO)',\n",
       "       'VEHICLE, STOLEN - OTHER (MOTORIZED SCOOTERS, BIKES, ETC)',\n",
       "       'FIREARMS EMERGENCY PROTECTIVE ORDER (FIREARMS EPO)'], dtype=object)"
      ]
     },
     "execution_count": 7,
     "metadata": {},
     "output_type": "execute_result"
    }
   ],
   "source": [
    "df[\"Crm Cd Desc\"].unique()"
   ]
  },
  {
   "cell_type": "code",
   "execution_count": 8,
   "metadata": {},
   "outputs": [
    {
     "data": {
      "text/plain": [
       "1200    140645\n",
       "1800     80561\n",
       "2000     75298\n",
       "1700     72411\n",
       "1900     71000\n",
       "         ...  \n",
       "0543        32\n",
       "0534        30\n",
       "0431        25\n",
       "0531        22\n",
       "0551        19\n",
       "Name: TIME OCC, Length: 1439, dtype: int64"
      ]
     },
     "execution_count": 8,
     "metadata": {},
     "output_type": "execute_result"
    }
   ],
   "source": [
    "df[\"TIME OCC\"].value_counts()"
   ]
  },
  {
   "attachments": {},
   "cell_type": "markdown",
   "metadata": {},
   "source": [
    "This is to see when do most crimes happen. From this we can see that the most common hour for a crime to occur over the past 13 years was at noon. The least common time for a crime to occur was at 5 am. However this is a massive spike at 12 which is odd. A reason for this could be that the dataset only counts crimes reported which means that since it is noon, more people are out and can see/report on a crime. In contrast, people are sleeping at night so there are less people reporting crimes. Another reason for this could be that when a crime happens, they are more focused on the criminal instead of what time it is so when they make a report to an officer, they may choose noon due to it being daylight."
   ]
  },
  {
   "cell_type": "code",
   "execution_count": 9,
   "metadata": {},
   "outputs": [
    {
     "data": {
      "text/plain": [
       "<Axes: >"
      ]
     },
     "execution_count": 9,
     "metadata": {},
     "output_type": "execute_result"
    },
    {
     "data": {
      "image/png": "[encoded data removed]",
      "text/plain": [
       "<Figure size 432x288 with 1 Axes>"
      ]
     },
     "metadata": {
      "needs_background": "light"
     },
     "output_type": "display_data"
    }
   ],
   "source": [
    "df[\"TIME OCC\"].str[:2].value_counts().sort_index().plot()"
   ]
  },
  {
   "cell_type": "code",
   "execution_count": 10,
   "metadata": {},
   "outputs": [
    {
     "data": {
      "text/plain": [
       "12    216387\n",
       "18    166780\n",
       "20    159912\n",
       "17    157612\n",
       "19    157135\n",
       "21    148173\n",
       "15    145565\n",
       "16    144829\n",
       "22    142909\n",
       "14    134643\n",
       "23    124953\n",
       "13    122620\n",
       "10    119551\n",
       "00    117138\n",
       "11    115466\n",
       "08    114609\n",
       "09    104651\n",
       "01     81268\n",
       "07     71435\n",
       "02     68859\n",
       "03     53780\n",
       "06     52716\n",
       "04     42213\n",
       "05     38928\n",
       "Name: TIME OCC, dtype: int64"
      ]
     },
     "execution_count": 10,
     "metadata": {},
     "output_type": "execute_result"
    }
   ],
   "source": [
    "df[\"TIME OCC\"].str[:2].value_counts()"
   ]
  },
  {
   "cell_type": "code",
   "execution_count": 11,
   "metadata": {},
   "outputs": [
    {
     "data": {
      "text/plain": [
       "1200    140645\n",
       "1800     80561\n",
       "2000     75298\n",
       "1700     72411\n",
       "1900     71000\n",
       "         ...  \n",
       "0543        32\n",
       "0534        30\n",
       "0431        25\n",
       "0531        22\n",
       "0551        19\n",
       "Name: TIME OCC, Length: 1439, dtype: int64"
      ]
     },
     "execution_count": 11,
     "metadata": {},
     "output_type": "execute_result"
    }
   ],
   "source": [
    "df[\"TIME OCC\"].value_counts()"
   ]
  },
  {
   "cell_type": "code",
   "execution_count": 12,
   "metadata": {},
   "outputs": [
    {
     "data": {
      "text/plain": [
       "01/01/2010 12:00:00 AM    2311\n",
       "01/01/2011 12:00:00 AM    2248\n",
       "01/01/2012 12:00:00 AM    1859\n",
       "01/01/2013 12:00:00 AM    1695\n",
       "01/01/2014 12:00:00 AM    1597\n",
       "                          ... \n",
       "12/31/2018 12:00:00 AM     607\n",
       "12/31/2019 12:00:00 AM     554\n",
       "12/31/2020 12:00:00 AM     573\n",
       "12/31/2021 12:00:00 AM     571\n",
       "12/31/2022 12:00:00 AM     556\n",
       "Name: DATE OCC, Length: 4820, dtype: int64"
      ]
     },
     "execution_count": 12,
     "metadata": {},
     "output_type": "execute_result"
    }
   ],
   "source": [
    "df[\"DATE OCC\"].value_counts().sort_index()"
   ]
  },
  {
   "cell_type": "code",
   "execution_count": 13,
   "metadata": {},
   "outputs": [
    {
     "data": {
      "text/plain": [
       "<Axes: >"
      ]
     },
     "execution_count": 13,
     "metadata": {},
     "output_type": "execute_result"
    },
    {
     "data": {
      "image/png": "[encoded data removed]",
      "text/plain": [
       "<Figure size 432x288 with 1 Axes>"
      ]
     },
     "metadata": {
      "needs_background": "light"
     },
     "output_type": "display_data"
    }
   ],
   "source": [
    "pd.to_datetime(df[\"DATE OCC\"]).value_counts().sort_index().plot()"
   ]
  },
  {
   "attachments": {},
   "cell_type": "markdown",
   "metadata": {},
   "source": [
    "Seems like there are more crimes happening during new years?"
   ]
  },
  {
   "cell_type": "code",
   "execution_count": 14,
   "metadata": {},
   "outputs": [
    {
     "data": {
      "text/html": [
       "<div>\n",
       "<style scoped>\n",
       "    .dataframe tbody tr th:only-of-type {\n",
       "        vertical-align: middle;\n",
       "    }\n",
       "\n",
       "    .dataframe tbody tr th {\n",
       "        vertical-align: top;\n",
       "    }\n",
       "\n",
       "    .dataframe thead th {\n",
       "        text-align: right;\n",
       "    }\n",
       "</style>\n",
       "<table border=\"1\" class=\"dataframe\">\n",
       "  <thead>\n",
       "    <tr style=\"text-align: right;\">\n",
       "      <th></th>\n",
       "      <th>DR_NO</th>\n",
       "      <th>DATE OCC</th>\n",
       "      <th>TIME OCC</th>\n",
       "      <th>AREA</th>\n",
       "      <th>AREA NAME</th>\n",
       "      <th>Rpt Dist No</th>\n",
       "      <th>Crm Cd Desc</th>\n",
       "      <th>Vict Age</th>\n",
       "      <th>Vict Sex</th>\n",
       "      <th>Vict Descent</th>\n",
       "      <th>Premis Desc</th>\n",
       "      <th>Weapon Desc</th>\n",
       "      <th>Status Desc</th>\n",
       "      <th>LOCATION</th>\n",
       "      <th>Cross Street</th>\n",
       "      <th>LAT</th>\n",
       "      <th>LON</th>\n",
       "    </tr>\n",
       "  </thead>\n",
       "  <tbody>\n",
       "    <tr>\n",
       "      <th>0</th>\n",
       "      <td>1307355</td>\n",
       "      <td>02/20/2010 12:00:00 AM</td>\n",
       "      <td>1350</td>\n",
       "      <td>13</td>\n",
       "      <td>Newton</td>\n",
       "      <td>1385</td>\n",
       "      <td>VIOLATION OF COURT ORDER</td>\n",
       "      <td>48</td>\n",
       "      <td>M</td>\n",
       "      <td>Hispanic/Latin/Mexican</td>\n",
       "      <td>SINGLE FAMILY DWELLING</td>\n",
       "      <td>NaN</td>\n",
       "      <td>Adult Arrest</td>\n",
       "      <td>300 E  GAGE                         AV</td>\n",
       "      <td>NaN</td>\n",
       "      <td>33.9825</td>\n",
       "      <td>-118.2695</td>\n",
       "    </tr>\n",
       "    <tr>\n",
       "      <th>1</th>\n",
       "      <td>11401303</td>\n",
       "      <td>09/12/2010 12:00:00 AM</td>\n",
       "      <td>0045</td>\n",
       "      <td>14</td>\n",
       "      <td>Pacific</td>\n",
       "      <td>1485</td>\n",
       "      <td>VANDALISM - FELONY ($400 &amp; OVER, ALL CHURCH VA...</td>\n",
       "      <td>0</td>\n",
       "      <td>M</td>\n",
       "      <td>White</td>\n",
       "      <td>STREET</td>\n",
       "      <td>NaN</td>\n",
       "      <td>Invest Cont</td>\n",
       "      <td>SEPULVEDA                    BL</td>\n",
       "      <td>MANCHESTER                   AV</td>\n",
       "      <td>33.9599</td>\n",
       "      <td>-118.3962</td>\n",
       "    </tr>\n",
       "    <tr>\n",
       "      <th>2</th>\n",
       "      <td>70309629</td>\n",
       "      <td>08/09/2010 12:00:00 AM</td>\n",
       "      <td>1515</td>\n",
       "      <td>13</td>\n",
       "      <td>Newton</td>\n",
       "      <td>1324</td>\n",
       "      <td>OTHER MISCELLANEOUS CRIME</td>\n",
       "      <td>0</td>\n",
       "      <td>M</td>\n",
       "      <td>Hispanic/Latin/Mexican</td>\n",
       "      <td>ALLEY</td>\n",
       "      <td>NaN</td>\n",
       "      <td>Invest Cont</td>\n",
       "      <td>1300 E  21ST                         ST</td>\n",
       "      <td>NaN</td>\n",
       "      <td>34.0224</td>\n",
       "      <td>-118.2524</td>\n",
       "    </tr>\n",
       "    <tr>\n",
       "      <th>3</th>\n",
       "      <td>90631215</td>\n",
       "      <td>01/05/2010 12:00:00 AM</td>\n",
       "      <td>0150</td>\n",
       "      <td>6</td>\n",
       "      <td>Hollywood</td>\n",
       "      <td>646</td>\n",
       "      <td>VIOLATION OF COURT ORDER</td>\n",
       "      <td>47</td>\n",
       "      <td>F</td>\n",
       "      <td>White</td>\n",
       "      <td>STREET</td>\n",
       "      <td>HAND GUN</td>\n",
       "      <td>Invest Cont</td>\n",
       "      <td>CAHUENGA                     BL</td>\n",
       "      <td>HOLLYWOOD                    BL</td>\n",
       "      <td>34.1016</td>\n",
       "      <td>-118.3295</td>\n",
       "    </tr>\n",
       "    <tr>\n",
       "      <th>4</th>\n",
       "      <td>100100501</td>\n",
       "      <td>01/02/2010 12:00:00 AM</td>\n",
       "      <td>2100</td>\n",
       "      <td>1</td>\n",
       "      <td>Central</td>\n",
       "      <td>176</td>\n",
       "      <td>RAPE, ATTEMPTED</td>\n",
       "      <td>47</td>\n",
       "      <td>F</td>\n",
       "      <td>Hispanic/Latin/Mexican</td>\n",
       "      <td>ALLEY</td>\n",
       "      <td>STRONG-ARM (HANDS, FIST, FEET OR BODILY FORCE)</td>\n",
       "      <td>Invest Cont</td>\n",
       "      <td>8TH                          ST</td>\n",
       "      <td>SAN PEDRO                    ST</td>\n",
       "      <td>34.0387</td>\n",
       "      <td>-118.2488</td>\n",
       "    </tr>\n",
       "  </tbody>\n",
       "</table>\n",
       "</div>"
      ],
      "text/plain": [
       "       DR_NO                DATE OCC TIME OCC  AREA  AREA NAME  Rpt Dist No  \\\n",
       "0    1307355  02/20/2010 12:00:00 AM     1350    13     Newton         1385   \n",
       "1   11401303  09/12/2010 12:00:00 AM     0045    14    Pacific         1485   \n",
       "2   70309629  08/09/2010 12:00:00 AM     1515    13     Newton         1324   \n",
       "3   90631215  01/05/2010 12:00:00 AM     0150     6  Hollywood          646   \n",
       "4  100100501  01/02/2010 12:00:00 AM     2100     1    Central          176   \n",
       "\n",
       "                                         Crm Cd Desc  Vict Age Vict Sex  \\\n",
       "0                           VIOLATION OF COURT ORDER        48        M   \n",
       "1  VANDALISM - FELONY ($400 & OVER, ALL CHURCH VA...         0        M   \n",
       "2                          OTHER MISCELLANEOUS CRIME         0        M   \n",
       "3                           VIOLATION OF COURT ORDER        47        F   \n",
       "4                                    RAPE, ATTEMPTED        47        F   \n",
       "\n",
       "             Vict Descent             Premis Desc  \\\n",
       "0  Hispanic/Latin/Mexican  SINGLE FAMILY DWELLING   \n",
       "1                   White                  STREET   \n",
       "2  Hispanic/Latin/Mexican                   ALLEY   \n",
       "3                   White                  STREET   \n",
       "4  Hispanic/Latin/Mexican                   ALLEY   \n",
       "\n",
       "                                      Weapon Desc   Status Desc  \\\n",
       "0                                             NaN  Adult Arrest   \n",
       "1                                             NaN   Invest Cont   \n",
       "2                                             NaN   Invest Cont   \n",
       "3                                        HAND GUN   Invest Cont   \n",
       "4  STRONG-ARM (HANDS, FIST, FEET OR BODILY FORCE)   Invest Cont   \n",
       "\n",
       "                                  LOCATION                     Cross Street  \\\n",
       "0   300 E  GAGE                         AV                              NaN   \n",
       "1          SEPULVEDA                    BL  MANCHESTER                   AV   \n",
       "2  1300 E  21ST                         ST                              NaN   \n",
       "3          CAHUENGA                     BL  HOLLYWOOD                    BL   \n",
       "4          8TH                          ST  SAN PEDRO                    ST   \n",
       "\n",
       "       LAT       LON  \n",
       "0  33.9825 -118.2695  \n",
       "1  33.9599 -118.3962  \n",
       "2  34.0224 -118.2524  \n",
       "3  34.1016 -118.3295  \n",
       "4  34.0387 -118.2488  "
      ]
     },
     "execution_count": 14,
     "metadata": {},
     "output_type": "execute_result"
    }
   ],
   "source": [
    "df.head()"
   ]
  },
  {
   "cell_type": "code",
   "execution_count": 15,
   "metadata": {},
   "outputs": [
    {
     "data": {
      "text/plain": [
       "2010-01-01    2311\n",
       "2011-01-01    2248\n",
       "2012-01-01    1859\n",
       "2013-01-01    1695\n",
       "2014-01-01    1597\n",
       "              ... \n",
       "2011-12-26     398\n",
       "2014-02-09     395\n",
       "2013-02-09     390\n",
       "2023-03-12     343\n",
       "2023-03-13     142\n",
       "Name: DATE OCC, Length: 4820, dtype: int64"
      ]
     },
     "execution_count": 15,
     "metadata": {},
     "output_type": "execute_result"
    }
   ],
   "source": [
    "pd.to_datetime(df[\"DATE OCC\"]).value_counts()"
   ]
  },
  {
   "attachments": {},
   "cell_type": "markdown",
   "metadata": {},
   "source": [
    "Number of crimes reported plotted by month and year"
   ]
  },
  {
   "cell_type": "code",
   "execution_count": 16,
   "metadata": {},
   "outputs": [
    {
     "data": {
      "text/plain": [
       "<Axes: >"
      ]
     },
     "execution_count": 16,
     "metadata": {},
     "output_type": "execute_result"
    },
    {
     "data": {
      "image/png": "[encoded data removed]",
      "text/plain": [
       "<Figure size 432x288 with 1 Axes>"
      ]
     },
     "metadata": {
      "needs_background": "light"
     },
     "output_type": "display_data"
    }
   ],
   "source": [
    "pd.to_datetime(df[\"DATE OCC\"]).dt.to_period('M').value_counts().sort_index().plot()"
   ]
  },
  {
   "cell_type": "code",
   "execution_count": 17,
   "metadata": {},
   "outputs": [
    {
     "data": {
      "text/plain": [
       "2017-10    20410\n",
       "2022-05    20302\n",
       "2017-07    20169\n",
       "2022-06    20058\n",
       "2022-10    19993\n",
       "           ...  \n",
       "2013-11    15340\n",
       "2011-02    14681\n",
       "2013-02    14065\n",
       "2014-02    13688\n",
       "2023-03     6287\n",
       "Freq: M, Name: DATE OCC, Length: 159, dtype: int64"
      ]
     },
     "execution_count": 17,
     "metadata": {},
     "output_type": "execute_result"
    }
   ],
   "source": [
    "pd.to_datetime(df[\"DATE OCC\"]).dt.to_period('M').value_counts()"
   ]
  },
  {
   "attachments": {},
   "cell_type": "markdown",
   "metadata": {},
   "source": [
    "This is number of crims reported over years. 2023 is extremely low because the year is going on."
   ]
  },
  {
   "cell_type": "code",
   "execution_count": 18,
   "metadata": {},
   "outputs": [
    {
     "data": {
      "text/plain": [
       "<Axes: >"
      ]
     },
     "execution_count": 18,
     "metadata": {},
     "output_type": "execute_result"
    },
    {
     "data": {
      "image/png": "[encoded data removed]",
      "text/plain": [
       "<Figure size 432x288 with 1 Axes>"
      ]
     },
     "metadata": {
      "needs_background": "light"
     },
     "output_type": "display_data"
    }
   ],
   "source": [
    "pd.to_datetime(df[\"DATE OCC\"]).dt.to_period('Y').value_counts().sort_index().plot()"
   ]
  },
  {
   "cell_type": "code",
   "execution_count": 19,
   "metadata": {},
   "outputs": [
    {
     "data": {
      "text/plain": [
       "2022    232194\n",
       "2017    231303\n",
       "2018    229197\n",
       "2016    225609\n",
       "2019    218088\n",
       "2015    215641\n",
       "2010    209229\n",
       "2021    208854\n",
       "2012    201621\n",
       "2011    200792\n",
       "2020    199022\n",
       "2014    195628\n",
       "2013    192689\n",
       "2023     42265\n",
       "Freq: A-DEC, Name: DATE OCC, dtype: int64"
      ]
     },
     "execution_count": 19,
     "metadata": {},
     "output_type": "execute_result"
    }
   ],
   "source": [
    "pd.to_datetime(df[\"DATE OCC\"]).dt.to_period('Y').value_counts()"
   ]
  },
  {
   "attachments": {},
   "cell_type": "markdown",
   "metadata": {},
   "source": [
    "Removing 2023 to get a better graph. We can see some oddities. 2013, 2014, and 2020 are low in comparison to other years. 2020 is likely due to the pandemic since everyone was encouraged to stay at home which leads to less crimes reported (and maybe less crimes happening?). I have no idea of any reason to explain why 2013 and 2014 are so low. In addition its a bit weird that crime starts picking to make a curve at 2017. Also a massive spite at 2022 as well but not too sure of the reason there. "
   ]
  },
  {
   "cell_type": "code",
   "execution_count": 20,
   "metadata": {},
   "outputs": [
    {
     "data": {
      "text/plain": [
       "<Axes: >"
      ]
     },
     "execution_count": 20,
     "metadata": {},
     "output_type": "execute_result"
    },
    {
     "data": {
      "image/png": "[encoded data removed]",
      "text/plain": [
       "<Figure size 432x288 with 1 Axes>"
      ]
     },
     "metadata": {
      "needs_background": "light"
     },
     "output_type": "display_data"
    }
   ],
   "source": [
    "pd.to_datetime(df[\"DATE OCC\"]).dt.to_period('Y').value_counts().sort_index()[:-1].plot()"
   ]
  },
  {
   "cell_type": "code",
   "execution_count": 21,
   "metadata": {},
   "outputs": [
    {
     "data": {
      "text/html": [
       "<div>\n",
       "<style scoped>\n",
       "    .dataframe tbody tr th:only-of-type {\n",
       "        vertical-align: middle;\n",
       "    }\n",
       "\n",
       "    .dataframe tbody tr th {\n",
       "        vertical-align: top;\n",
       "    }\n",
       "\n",
       "    .dataframe thead th {\n",
       "        text-align: right;\n",
       "    }\n",
       "</style>\n",
       "<table border=\"1\" class=\"dataframe\">\n",
       "  <thead>\n",
       "    <tr style=\"text-align: right;\">\n",
       "      <th></th>\n",
       "      <th>Longitude</th>\n",
       "      <th>Latitude</th>\n",
       "      <th>OBJECTID</th>\n",
       "      <th>DIVISION</th>\n",
       "      <th>LOCATION</th>\n",
       "      <th>PREC</th>\n",
       "    </tr>\n",
       "  </thead>\n",
       "  <tbody>\n",
       "    <tr>\n",
       "      <th>0</th>\n",
       "      <td>-118.289242</td>\n",
       "      <td>33.757661</td>\n",
       "      <td>1</td>\n",
       "      <td>HARBOR</td>\n",
       "      <td>2175 JOHN S. GIBSON BLVD.</td>\n",
       "      <td>5</td>\n",
       "    </tr>\n",
       "    <tr>\n",
       "      <th>1</th>\n",
       "      <td>-118.275394</td>\n",
       "      <td>33.938627</td>\n",
       "      <td>2</td>\n",
       "      <td>SOUTHEAST</td>\n",
       "      <td>145 W. 108TH ST.</td>\n",
       "      <td>18</td>\n",
       "    </tr>\n",
       "    <tr>\n",
       "      <th>2</th>\n",
       "      <td>-118.277670</td>\n",
       "      <td>33.970307</td>\n",
       "      <td>3</td>\n",
       "      <td>77TH STREET</td>\n",
       "      <td>7600 S. BROADWAY</td>\n",
       "      <td>12</td>\n",
       "    </tr>\n",
       "    <tr>\n",
       "      <th>3</th>\n",
       "      <td>-118.419842</td>\n",
       "      <td>33.991655</td>\n",
       "      <td>4</td>\n",
       "      <td>PACIFIC</td>\n",
       "      <td>12312 CULVER BLVD.</td>\n",
       "      <td>14</td>\n",
       "    </tr>\n",
       "    <tr>\n",
       "      <th>4</th>\n",
       "      <td>-118.305142</td>\n",
       "      <td>34.010575</td>\n",
       "      <td>5</td>\n",
       "      <td>SOUTHWEST</td>\n",
       "      <td>1546 MARTIN LUTHER KING JR. BLVD.</td>\n",
       "      <td>3</td>\n",
       "    </tr>\n",
       "  </tbody>\n",
       "</table>\n",
       "</div>"
      ],
      "text/plain": [
       "    Longitude   Latitude  OBJECTID     DIVISION  \\\n",
       "0 -118.289242  33.757661         1       HARBOR   \n",
       "1 -118.275394  33.938627         2    SOUTHEAST   \n",
       "2 -118.277670  33.970307         3  77TH STREET   \n",
       "3 -118.419842  33.991655         4      PACIFIC   \n",
       "4 -118.305142  34.010575         5    SOUTHWEST   \n",
       "\n",
       "                            LOCATION  PREC  \n",
       "0          2175 JOHN S. GIBSON BLVD.     5  \n",
       "1                   145 W. 108TH ST.    18  \n",
       "2                   7600 S. BROADWAY    12  \n",
       "3                 12312 CULVER BLVD.    14  \n",
       "4  1546 MARTIN LUTHER KING JR. BLVD.     3  "
      ]
     },
     "execution_count": 21,
     "metadata": {},
     "output_type": "execute_result"
    }
   ],
   "source": [
    "LAPD_df.head()"
   ]
  },
  {
   "attachments": {},
   "cell_type": "markdown",
   "metadata": {},
   "source": [
    "## Looking at New Years data from 2010 to 2023"
   ]
  },
  {
   "attachments": {},
   "cell_type": "markdown",
   "metadata": {},
   "source": [
    "As discussed earlier, we noticed that there appears to be spikes in criminal activity on each of the past 13 New Years days. Due to how massive the disparity of the crime rates appears to be, it may be interesting to look at these days and uncover what kinds of crimes may be causing such a massive jump. We will start by copying the original dataframe and adding an additional column which transforms the 'DATE OCC' (date and time) column into a datetime column to easily extract January 1st from each year."
   ]
  },
  {
   "cell_type": "code",
   "execution_count": 22,
   "metadata": {},
   "outputs": [
    {
     "data": {
      "text/html": [
       "<div>\n",
       "<style scoped>\n",
       "    .dataframe tbody tr th:only-of-type {\n",
       "        vertical-align: middle;\n",
       "    }\n",
       "\n",
       "    .dataframe tbody tr th {\n",
       "        vertical-align: top;\n",
       "    }\n",
       "\n",
       "    .dataframe thead th {\n",
       "        text-align: right;\n",
       "    }\n",
       "</style>\n",
       "<table border=\"1\" class=\"dataframe\">\n",
       "  <thead>\n",
       "    <tr style=\"text-align: right;\">\n",
       "      <th></th>\n",
       "      <th>DR_NO</th>\n",
       "      <th>DATE OCC</th>\n",
       "      <th>TIME OCC</th>\n",
       "      <th>AREA</th>\n",
       "      <th>AREA NAME</th>\n",
       "      <th>Rpt Dist No</th>\n",
       "      <th>Crm Cd Desc</th>\n",
       "      <th>Vict Age</th>\n",
       "      <th>Vict Sex</th>\n",
       "      <th>Vict Descent</th>\n",
       "      <th>Premis Desc</th>\n",
       "      <th>Weapon Desc</th>\n",
       "      <th>Status Desc</th>\n",
       "      <th>LOCATION</th>\n",
       "      <th>Cross Street</th>\n",
       "      <th>LAT</th>\n",
       "      <th>LON</th>\n",
       "      <th>Date</th>\n",
       "    </tr>\n",
       "  </thead>\n",
       "  <tbody>\n",
       "    <tr>\n",
       "      <th>0</th>\n",
       "      <td>1307355</td>\n",
       "      <td>02/20/2010 12:00:00 AM</td>\n",
       "      <td>1350</td>\n",
       "      <td>13</td>\n",
       "      <td>Newton</td>\n",
       "      <td>1385</td>\n",
       "      <td>VIOLATION OF COURT ORDER</td>\n",
       "      <td>48</td>\n",
       "      <td>M</td>\n",
       "      <td>Hispanic/Latin/Mexican</td>\n",
       "      <td>SINGLE FAMILY DWELLING</td>\n",
       "      <td>NaN</td>\n",
       "      <td>Adult Arrest</td>\n",
       "      <td>300 E  GAGE                         AV</td>\n",
       "      <td>NaN</td>\n",
       "      <td>33.9825</td>\n",
       "      <td>-118.2695</td>\n",
       "      <td>2010-02-20</td>\n",
       "    </tr>\n",
       "    <tr>\n",
       "      <th>1</th>\n",
       "      <td>11401303</td>\n",
       "      <td>09/12/2010 12:00:00 AM</td>\n",
       "      <td>0045</td>\n",
       "      <td>14</td>\n",
       "      <td>Pacific</td>\n",
       "      <td>1485</td>\n",
       "      <td>VANDALISM - FELONY ($400 &amp; OVER, ALL CHURCH VA...</td>\n",
       "      <td>0</td>\n",
       "      <td>M</td>\n",
       "      <td>White</td>\n",
       "      <td>STREET</td>\n",
       "      <td>NaN</td>\n",
       "      <td>Invest Cont</td>\n",
       "      <td>SEPULVEDA                    BL</td>\n",
       "      <td>MANCHESTER                   AV</td>\n",
       "      <td>33.9599</td>\n",
       "      <td>-118.3962</td>\n",
       "      <td>2010-09-12</td>\n",
       "    </tr>\n",
       "    <tr>\n",
       "      <th>2</th>\n",
       "      <td>70309629</td>\n",
       "      <td>08/09/2010 12:00:00 AM</td>\n",
       "      <td>1515</td>\n",
       "      <td>13</td>\n",
       "      <td>Newton</td>\n",
       "      <td>1324</td>\n",
       "      <td>OTHER MISCELLANEOUS CRIME</td>\n",
       "      <td>0</td>\n",
       "      <td>M</td>\n",
       "      <td>Hispanic/Latin/Mexican</td>\n",
       "      <td>ALLEY</td>\n",
       "      <td>NaN</td>\n",
       "      <td>Invest Cont</td>\n",
       "      <td>1300 E  21ST                         ST</td>\n",
       "      <td>NaN</td>\n",
       "      <td>34.0224</td>\n",
       "      <td>-118.2524</td>\n",
       "      <td>2010-08-09</td>\n",
       "    </tr>\n",
       "    <tr>\n",
       "      <th>3</th>\n",
       "      <td>90631215</td>\n",
       "      <td>01/05/2010 12:00:00 AM</td>\n",
       "      <td>0150</td>\n",
       "      <td>6</td>\n",
       "      <td>Hollywood</td>\n",
       "      <td>646</td>\n",
       "      <td>VIOLATION OF COURT ORDER</td>\n",
       "      <td>47</td>\n",
       "      <td>F</td>\n",
       "      <td>White</td>\n",
       "      <td>STREET</td>\n",
       "      <td>HAND GUN</td>\n",
       "      <td>Invest Cont</td>\n",
       "      <td>CAHUENGA                     BL</td>\n",
       "      <td>HOLLYWOOD                    BL</td>\n",
       "      <td>34.1016</td>\n",
       "      <td>-118.3295</td>\n",
       "      <td>2010-01-05</td>\n",
       "    </tr>\n",
       "    <tr>\n",
       "      <th>4</th>\n",
       "      <td>100100501</td>\n",
       "      <td>01/02/2010 12:00:00 AM</td>\n",
       "      <td>2100</td>\n",
       "      <td>1</td>\n",
       "      <td>Central</td>\n",
       "      <td>176</td>\n",
       "      <td>RAPE, ATTEMPTED</td>\n",
       "      <td>47</td>\n",
       "      <td>F</td>\n",
       "      <td>Hispanic/Latin/Mexican</td>\n",
       "      <td>ALLEY</td>\n",
       "      <td>STRONG-ARM (HANDS, FIST, FEET OR BODILY FORCE)</td>\n",
       "      <td>Invest Cont</td>\n",
       "      <td>8TH                          ST</td>\n",
       "      <td>SAN PEDRO                    ST</td>\n",
       "      <td>34.0387</td>\n",
       "      <td>-118.2488</td>\n",
       "      <td>2010-01-02</td>\n",
       "    </tr>\n",
       "  </tbody>\n",
       "</table>\n",
       "</div>"
      ],
      "text/plain": [
       "       DR_NO                DATE OCC TIME OCC  AREA  AREA NAME  Rpt Dist No  \\\n",
       "0    1307355  02/20/2010 12:00:00 AM     1350    13     Newton         1385   \n",
       "1   11401303  09/12/2010 12:00:00 AM     0045    14    Pacific         1485   \n",
       "2   70309629  08/09/2010 12:00:00 AM     1515    13     Newton         1324   \n",
       "3   90631215  01/05/2010 12:00:00 AM     0150     6  Hollywood          646   \n",
       "4  100100501  01/02/2010 12:00:00 AM     2100     1    Central          176   \n",
       "\n",
       "                                         Crm Cd Desc  Vict Age Vict Sex  \\\n",
       "0                           VIOLATION OF COURT ORDER        48        M   \n",
       "1  VANDALISM - FELONY ($400 & OVER, ALL CHURCH VA...         0        M   \n",
       "2                          OTHER MISCELLANEOUS CRIME         0        M   \n",
       "3                           VIOLATION OF COURT ORDER        47        F   \n",
       "4                                    RAPE, ATTEMPTED        47        F   \n",
       "\n",
       "             Vict Descent             Premis Desc  \\\n",
       "0  Hispanic/Latin/Mexican  SINGLE FAMILY DWELLING   \n",
       "1                   White                  STREET   \n",
       "2  Hispanic/Latin/Mexican                   ALLEY   \n",
       "3                   White                  STREET   \n",
       "4  Hispanic/Latin/Mexican                   ALLEY   \n",
       "\n",
       "                                      Weapon Desc   Status Desc  \\\n",
       "0                                             NaN  Adult Arrest   \n",
       "1                                             NaN   Invest Cont   \n",
       "2                                             NaN   Invest Cont   \n",
       "3                                        HAND GUN   Invest Cont   \n",
       "4  STRONG-ARM (HANDS, FIST, FEET OR BODILY FORCE)   Invest Cont   \n",
       "\n",
       "                                  LOCATION                     Cross Street  \\\n",
       "0   300 E  GAGE                         AV                              NaN   \n",
       "1          SEPULVEDA                    BL  MANCHESTER                   AV   \n",
       "2  1300 E  21ST                         ST                              NaN   \n",
       "3          CAHUENGA                     BL  HOLLYWOOD                    BL   \n",
       "4          8TH                          ST  SAN PEDRO                    ST   \n",
       "\n",
       "       LAT       LON       Date  \n",
       "0  33.9825 -118.2695 2010-02-20  \n",
       "1  33.9599 -118.3962 2010-09-12  \n",
       "2  34.0224 -118.2524 2010-08-09  \n",
       "3  34.1016 -118.3295 2010-01-05  \n",
       "4  34.0387 -118.2488 2010-01-02  "
      ]
     },
     "execution_count": 22,
     "metadata": {},
     "output_type": "execute_result"
    }
   ],
   "source": [
    "# Make a copy of the dataframe and create a new one with a datetime column for easy filtering\n",
    "datetime_col = pd.to_datetime(df['DATE OCC'])\n",
    "new_df = df.copy()\n",
    "new_df['Date'] = datetime_col\n",
    "new_df.head()"
   ]
  },
  {
   "attachments": {},
   "cell_type": "markdown",
   "metadata": {},
   "source": [
    "We can now easily filter the dataframe by making Month and Day equal 1, which will only contain data from New Years days."
   ]
  },
  {
   "cell_type": "code",
   "execution_count": 23,
   "metadata": {},
   "outputs": [
    {
     "data": {
      "text/html": [
       "<div>\n",
       "<style scoped>\n",
       "    .dataframe tbody tr th:only-of-type {\n",
       "        vertical-align: middle;\n",
       "    }\n",
       "\n",
       "    .dataframe tbody tr th {\n",
       "        vertical-align: top;\n",
       "    }\n",
       "\n",
       "    .dataframe thead th {\n",
       "        text-align: right;\n",
       "    }\n",
       "</style>\n",
       "<table border=\"1\" class=\"dataframe\">\n",
       "  <thead>\n",
       "    <tr style=\"text-align: right;\">\n",
       "      <th></th>\n",
       "      <th>DR_NO</th>\n",
       "      <th>DATE OCC</th>\n",
       "      <th>TIME OCC</th>\n",
       "      <th>AREA</th>\n",
       "      <th>AREA NAME</th>\n",
       "      <th>Rpt Dist No</th>\n",
       "      <th>Crm Cd Desc</th>\n",
       "      <th>Vict Age</th>\n",
       "      <th>Vict Sex</th>\n",
       "      <th>Vict Descent</th>\n",
       "      <th>Premis Desc</th>\n",
       "      <th>Weapon Desc</th>\n",
       "      <th>Status Desc</th>\n",
       "      <th>LOCATION</th>\n",
       "      <th>Cross Street</th>\n",
       "      <th>LAT</th>\n",
       "      <th>LON</th>\n",
       "      <th>Date</th>\n",
       "    </tr>\n",
       "  </thead>\n",
       "  <tbody>\n",
       "    <tr>\n",
       "      <th>448</th>\n",
       "      <td>100104004</td>\n",
       "      <td>01/01/2010 12:00:00 AM</td>\n",
       "      <td>0130</td>\n",
       "      <td>1</td>\n",
       "      <td>Central</td>\n",
       "      <td>162</td>\n",
       "      <td>ASSAULT WITH DEADLY WEAPON, AGGRAVATED ASSAULT</td>\n",
       "      <td>35</td>\n",
       "      <td>M</td>\n",
       "      <td>Other</td>\n",
       "      <td>POLICE FACILITY</td>\n",
       "      <td>BLUNT INSTRUMENT</td>\n",
       "      <td>Adult Arrest</td>\n",
       "      <td>7TH                          ST</td>\n",
       "      <td>FLOWER                       ST</td>\n",
       "      <td>34.0487</td>\n",
       "      <td>-118.2588</td>\n",
       "      <td>2010-01-01</td>\n",
       "    </tr>\n",
       "    <tr>\n",
       "      <th>449</th>\n",
       "      <td>100104006</td>\n",
       "      <td>01/01/2010 12:00:00 AM</td>\n",
       "      <td>0230</td>\n",
       "      <td>1</td>\n",
       "      <td>Central</td>\n",
       "      <td>171</td>\n",
       "      <td>BATTERY - SIMPLE ASSAULT</td>\n",
       "      <td>30</td>\n",
       "      <td>M</td>\n",
       "      <td>Hispanic/Latin/Mexican</td>\n",
       "      <td>STREET</td>\n",
       "      <td>STRONG-ARM (HANDS, FIST, FEET OR BODILY FORCE)</td>\n",
       "      <td>Invest Cont</td>\n",
       "      <td>OLYMPIC                      BL</td>\n",
       "      <td>FIGUEROA                     BL</td>\n",
       "      <td>34.0453</td>\n",
       "      <td>-118.2651</td>\n",
       "      <td>2010-01-01</td>\n",
       "    </tr>\n",
       "    <tr>\n",
       "      <th>450</th>\n",
       "      <td>100104007</td>\n",
       "      <td>01/01/2010 12:00:00 AM</td>\n",
       "      <td>0100</td>\n",
       "      <td>1</td>\n",
       "      <td>Central</td>\n",
       "      <td>111</td>\n",
       "      <td>BURGLARY FROM VEHICLE</td>\n",
       "      <td>32</td>\n",
       "      <td>M</td>\n",
       "      <td>Hispanic/Latin/Mexican</td>\n",
       "      <td>PARKING UNDERGROUND/BUILDING</td>\n",
       "      <td>NaN</td>\n",
       "      <td>Invest Cont</td>\n",
       "      <td>600 N  HILL                         ST</td>\n",
       "      <td>NaN</td>\n",
       "      <td>34.0591</td>\n",
       "      <td>-118.2412</td>\n",
       "      <td>2010-01-01</td>\n",
       "    </tr>\n",
       "    <tr>\n",
       "      <th>451</th>\n",
       "      <td>100104012</td>\n",
       "      <td>01/01/2010 12:00:00 AM</td>\n",
       "      <td>1145</td>\n",
       "      <td>1</td>\n",
       "      <td>Central</td>\n",
       "      <td>152</td>\n",
       "      <td>BATTERY - SIMPLE ASSAULT</td>\n",
       "      <td>51</td>\n",
       "      <td>M</td>\n",
       "      <td>Hispanic/Latin/Mexican</td>\n",
       "      <td>OTHER/OUTSIDE</td>\n",
       "      <td>STRONG-ARM (HANDS, FIST, FEET OR BODILY FORCE)</td>\n",
       "      <td>Invest Cont</td>\n",
       "      <td>FLOWER</td>\n",
       "      <td>WILSHIRE</td>\n",
       "      <td>34.0494</td>\n",
       "      <td>-118.2581</td>\n",
       "      <td>2010-01-01</td>\n",
       "    </tr>\n",
       "    <tr>\n",
       "      <th>452</th>\n",
       "      <td>100104021</td>\n",
       "      <td>01/01/2010 12:00:00 AM</td>\n",
       "      <td>1130</td>\n",
       "      <td>1</td>\n",
       "      <td>Central</td>\n",
       "      <td>100</td>\n",
       "      <td>ASSAULT WITH DEADLY WEAPON, AGGRAVATED ASSAULT</td>\n",
       "      <td>51</td>\n",
       "      <td>M</td>\n",
       "      <td>Black</td>\n",
       "      <td>SIDEWALK</td>\n",
       "      <td>UNKNOWN WEAPON/OTHER WEAPON</td>\n",
       "      <td>Invest Cont</td>\n",
       "      <td>6TH                          ST</td>\n",
       "      <td>WALL                         ST</td>\n",
       "      <td>34.0428</td>\n",
       "      <td>-118.2461</td>\n",
       "      <td>2010-01-01</td>\n",
       "    </tr>\n",
       "  </tbody>\n",
       "</table>\n",
       "</div>"
      ],
      "text/plain": [
       "         DR_NO                DATE OCC TIME OCC  AREA AREA NAME  Rpt Dist No  \\\n",
       "448  100104004  01/01/2010 12:00:00 AM     0130     1   Central          162   \n",
       "449  100104006  01/01/2010 12:00:00 AM     0230     1   Central          171   \n",
       "450  100104007  01/01/2010 12:00:00 AM     0100     1   Central          111   \n",
       "451  100104012  01/01/2010 12:00:00 AM     1145     1   Central          152   \n",
       "452  100104021  01/01/2010 12:00:00 AM     1130     1   Central          100   \n",
       "\n",
       "                                        Crm Cd Desc  Vict Age Vict Sex  \\\n",
       "448  ASSAULT WITH DEADLY WEAPON, AGGRAVATED ASSAULT        35        M   \n",
       "449                        BATTERY - SIMPLE ASSAULT        30        M   \n",
       "450                           BURGLARY FROM VEHICLE        32        M   \n",
       "451                        BATTERY - SIMPLE ASSAULT        51        M   \n",
       "452  ASSAULT WITH DEADLY WEAPON, AGGRAVATED ASSAULT        51        M   \n",
       "\n",
       "               Vict Descent                   Premis Desc  \\\n",
       "448                   Other               POLICE FACILITY   \n",
       "449  Hispanic/Latin/Mexican                        STREET   \n",
       "450  Hispanic/Latin/Mexican  PARKING UNDERGROUND/BUILDING   \n",
       "451  Hispanic/Latin/Mexican                 OTHER/OUTSIDE   \n",
       "452                   Black                      SIDEWALK   \n",
       "\n",
       "                                        Weapon Desc   Status Desc  \\\n",
       "448                                BLUNT INSTRUMENT  Adult Arrest   \n",
       "449  STRONG-ARM (HANDS, FIST, FEET OR BODILY FORCE)   Invest Cont   \n",
       "450                                             NaN   Invest Cont   \n",
       "451  STRONG-ARM (HANDS, FIST, FEET OR BODILY FORCE)   Invest Cont   \n",
       "452                     UNKNOWN WEAPON/OTHER WEAPON   Invest Cont   \n",
       "\n",
       "                                   LOCATION                     Cross Street  \\\n",
       "448         7TH                          ST  FLOWER                       ST   \n",
       "449         OLYMPIC                      BL  FIGUEROA                     BL   \n",
       "450  600 N  HILL                         ST                              NaN   \n",
       "451                                  FLOWER                         WILSHIRE   \n",
       "452         6TH                          ST  WALL                         ST   \n",
       "\n",
       "         LAT       LON       Date  \n",
       "448  34.0487 -118.2588 2010-01-01  \n",
       "449  34.0453 -118.2651 2010-01-01  \n",
       "450  34.0591 -118.2412 2010-01-01  \n",
       "451  34.0494 -118.2581 2010-01-01  \n",
       "452  34.0428 -118.2461 2010-01-01  "
      ]
     },
     "execution_count": 23,
     "metadata": {},
     "output_type": "execute_result"
    }
   ],
   "source": [
    "# Create new dataframe that only contains crimes on New Years Day from 2010 - 2023\n",
    "new_years = new_df[(new_df['Date'].dt.month == 1) & (new_df['Date'].dt.day == 1)]\n",
    "new_years.head()"
   ]
  },
  {
   "cell_type": "code",
   "execution_count": 45,
   "metadata": {},
   "outputs": [
    {
     "data": {
      "text/plain": [
       "(20262, 18)"
      ]
     },
     "execution_count": 45,
     "metadata": {},
     "output_type": "execute_result"
    }
   ],
   "source": [
    "new_years.shape"
   ]
  },
  {
   "attachments": {},
   "cell_type": "markdown",
   "metadata": {},
   "source": [
    "We notice here that the data from New Years days contains over 20,000 crimes, which is about 0.72% of the entire dataset. This comes to an average of about 1559 crimes per New Years day, compared to the daily average of crimes being only 628. It appears that about 2.5 times more crime is reported on a single New Years day compared to any other day in LA."
   ]
  },
  {
   "cell_type": "code",
   "execution_count": 25,
   "metadata": {},
   "outputs": [
    {
     "data": {
      "text/plain": [
       "1558.6153846153845"
      ]
     },
     "execution_count": 25,
     "metadata": {},
     "output_type": "execute_result"
    }
   ],
   "source": [
    "# Average New Years day\n",
    "20262/13"
   ]
  },
  {
   "cell_type": "code",
   "execution_count": 26,
   "metadata": {},
   "outputs": [
    {
     "data": {
      "text/plain": [
       "4460"
      ]
     },
     "execution_count": 26,
     "metadata": {},
     "output_type": "execute_result"
    }
   ],
   "source": [
    "# Total days from January 2010 - March 2023\n",
    "365 * 12 + (80)"
   ]
  },
  {
   "cell_type": "code",
   "execution_count": 41,
   "metadata": {},
   "outputs": [
    {
     "data": {
      "text/plain": [
       "628.2807174887893"
      ]
     },
     "execution_count": 41,
     "metadata": {},
     "output_type": "execute_result"
    }
   ],
   "source": [
    "# Average number of crimes per day from Jan 2010 - March 2023\n",
    "df.shape[0] / 4460"
   ]
  },
  {
   "attachments": {},
   "cell_type": "markdown",
   "metadata": {},
   "source": [
    "#### Looking at the top crimes on a given New Years day"
   ]
  },
  {
   "cell_type": "code",
   "execution_count": 42,
   "metadata": {},
   "outputs": [
    {
     "data": {
      "text/plain": [
       "THEFT OF IDENTITY                                           6542\n",
       "CRM AGNST CHLD (13 OR UNDER) (14-15 & SUSP 10 YRS OLDER)    1376\n",
       "BATTERY - SIMPLE ASSAULT                                    1044\n",
       "INTIMATE PARTNER - SIMPLE ASSAULT                            811\n",
       "BURGLARY FROM VEHICLE                                        643\n",
       "VEHICLE - STOLEN                                             623\n",
       "THEFT-GRAND ($950.01 & OVER)EXCPT,GUNS,FOWL,LIVESTK,PROD     599\n",
       "BURGLARY                                                     595\n",
       "ASSAULT WITH DEADLY WEAPON, AGGRAVATED ASSAULT               584\n",
       "VANDALISM - FELONY ($400 & OVER, ALL CHURCH VANDALISMS)      560\n",
       "THEFT PLAIN - PETTY ($950 & UNDER)                           524\n",
       "RAPE, FORCIBLE                                               513\n",
       "THEFT FROM MOTOR VEHICLE - PETTY ($950 & UNDER)              485\n",
       "VANDALISM - MISDEAMEANOR ($399 OR UNDER)                     430\n",
       "SEX,UNLAWFUL(INC MUTUAL CONSENT, PENETRATION W/ FRGN OBJ     386\n",
       "LETTERS, LEWD  -  TELEPHONE CALLS, LEWD                      382\n",
       "ROBBERY                                                      356\n",
       "BATTERY WITH SEXUAL CONTACT                                  301\n",
       "SEXUAL PENETRATION W/FOREIGN OBJECT                          264\n",
       "CRIMINAL THREATS - NO WEAPON DISPLAYED                       230\n",
       "Name: Crm Cd Desc, dtype: int64"
      ]
     },
     "execution_count": 42,
     "metadata": {},
     "output_type": "execute_result"
    }
   ],
   "source": [
    "# Looking at the top 20 crimes committed on New Years days\n",
    "top_20 = new_years['Crm Cd Desc'].value_counts()[:20]\n",
    "top_20"
   ]
  },
  {
   "cell_type": "code",
   "execution_count": 36,
   "metadata": {},
   "outputs": [
    {
     "data": {
      "text/plain": [
       "<Axes: >"
      ]
     },
     "execution_count": 36,
     "metadata": {},
     "output_type": "execute_result"
    },
    {
     "data": {
      "image/png": "[encoded data removed]",
      "text/plain": [
       "<Figure size 432x288 with 1 Axes>"
      ]
     },
     "metadata": {
      "needs_background": "light"
     },
     "output_type": "display_data"
    }
   ],
   "source": [
    "top_20.sort_values().plot(kind = 'barh')"
   ]
  },
  {
   "attachments": {},
   "cell_type": "markdown",
   "metadata": {},
   "source": [
    "#### Identity theft appears to be the overwhelming majority of crimes on New Years days over the past 13 years, with no other crime coming close to its prevelance. This makes some logical sense, due to fake ID's being used for the purchase of alcohol, bar hopping, and as defense mechanisms for avoiding a DUI.\""
   ]
  },
  {
   "cell_type": "code",
   "execution_count": 31,
   "metadata": {},
   "outputs": [
    {
     "data": {
      "text/html": [
       "<div>\n",
       "<style scoped>\n",
       "    .dataframe tbody tr th:only-of-type {\n",
       "        vertical-align: middle;\n",
       "    }\n",
       "\n",
       "    .dataframe tbody tr th {\n",
       "        vertical-align: top;\n",
       "    }\n",
       "\n",
       "    .dataframe thead th {\n",
       "        text-align: right;\n",
       "    }\n",
       "</style>\n",
       "<table border=\"1\" class=\"dataframe\">\n",
       "  <thead>\n",
       "    <tr style=\"text-align: right;\">\n",
       "      <th></th>\n",
       "      <th>Longitude</th>\n",
       "      <th>Latitude</th>\n",
       "      <th>OBJECTID</th>\n",
       "      <th>DIVISION</th>\n",
       "      <th>LOCATION</th>\n",
       "      <th>PREC</th>\n",
       "      <th>DR_NO</th>\n",
       "    </tr>\n",
       "  </thead>\n",
       "  <tbody>\n",
       "  </tbody>\n",
       "</table>\n",
       "</div>"
      ],
      "text/plain": [
       "Empty DataFrame\n",
       "Columns: [Longitude, Latitude, OBJECTID, DIVISION, LOCATION, PREC, DR_NO]\n",
       "Index: []"
      ]
     },
     "execution_count": 31,
     "metadata": {},
     "output_type": "execute_result"
    },
    {
     "data": {
      "image/png": "[encoded data removed]",
      "text/plain": [
       "<Figure size 432x288 with 1 Axes>"
      ]
     },
     "metadata": {
      "needs_background": "light"
     },
     "output_type": "display_data"
    },
    {
     "data": {
      "image/png": "[encoded data removed]",
      "text/plain": [
       "<Figure size 1440x864 with 1 Axes>"
      ]
     },
     "metadata": {
      "needs_background": "light"
     },
     "output_type": "display_data"
    }
   ],
   "source": [
    "import geopandas as gpd\n",
    "import matplotlib.pyplot as plt\n",
    "\n",
    "# https://geohub.lacity.org/datasets/031d488e158144d0b3aecaa9c888b7b3_0/explore?location=33.985210%2C-118.389876%2C11.32\n",
    "\n",
    "map_df = gpd.read_file('LAPD_Divisions.shp')\n",
    "map_df.plot(color='gray')\n",
    "\n",
    "df_plot = df.loc[(df['LAT'] >= 33.7) & (df['LAT'] <= 34.37) & (df['LON'] >= -118.7) & (df['LON'] <= -118.15)]\n",
    "\n",
    "fig, ax = plt.subplots(1, figsize = (20, 12))\n",
    "map_df.boundary.plot(color='black', ax=ax)\n",
    "df_plot.plot(ax=ax, x='LON', y='LAT', kind='scatter', color='red',  s=0.1, alpha=0.5)\n",
    "LAPD_df.plot(ax=ax, x='Longitude', y='Latitude', kind='scatter', s=5)\n",
    "\n",
    "LAPD_df.merge(df.groupby('AREA')[['DR_NO']].count(), left_on='PREC', right_on='DR_NO')"
   ]
  },
  {
   "cell_type": "code",
   "execution_count": null,
   "metadata": {},
   "outputs": [],
   "source": []
  }
 ],
 "metadata": {
  "kernelspec": {
   "display_name": "Python 3",
   "language": "python",
   "name": "python3"
  },
  "language_info": {
   "codemirror_mode": {
    "name": "ipython",
    "version": 3
   },
   "file_extension": ".py",
   "mimetype": "text/x-python",
   "name": "python",
   "nbconvert_exporter": "python",
   "pygments_lexer": "ipython3",
   "version": "3.8.5"
  }
 },
 "nbformat": 4,
 "nbformat_minor": 2
}
