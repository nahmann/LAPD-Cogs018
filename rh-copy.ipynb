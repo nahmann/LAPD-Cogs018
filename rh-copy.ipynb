{
 "cells": [
  {
   "cell_type": "markdown",
   "metadata": {},
   "source": [
    "# COGS 108 - EDA Checkpoint"
   ]
  },
  {
   "attachments": {},
   "cell_type": "markdown",
   "metadata": {},
   "source": [
    "# Names\n",
    "- Alan Miyazaki\n",
    "- Alex Guan\n",
    "- Nathan Ahmann\n",
    "- Renaldy Herlim"
   ]
  },
  {
   "cell_type": "markdown",
   "metadata": {},
   "source": [
    "<a id='research_question'></a>\n",
    "# Research Question"
   ]
  },
  {
   "attachments": {},
   "cell_type": "markdown",
   "metadata": {},
   "source": [
    "Does crime happen more or less frequently around police stations and can that knowledge be used to more effectively distribute police station locations?"
   ]
  },
  {
   "cell_type": "markdown",
   "metadata": {},
   "source": [
    "# Setup"
   ]
  },
  {
   "cell_type": "code",
   "execution_count": null,
   "metadata": {},
   "outputs": [],
   "source": [
    "import pandas as pd\n",
    "import datetime"
   ]
  },
  {
   "cell_type": "markdown",
   "metadata": {},
   "source": [
    "# Data Cleaning"
   ]
  },
  {
   "cell_type": "markdown",
   "metadata": {},
   "source": [
    "Describe your data cleaning steps here."
   ]
  },
  {
   "cell_type": "code",
   "execution_count": null,
   "metadata": {},
   "outputs": [],
   "source": [
    "# Reading datasets from two different time periods\n",
    "\n",
    "# https://data.lacity.org/Public-Safety/Crime-Data-from-2010-to-2019/63jg-8b9z\n",
    "past_df = pd.read_csv(\"Crime_Data_from_2010_to_2019.csv\", dtype = {\"TIME OCC\": str})\n",
    "# https://data.lacity.org/Public-Safety/Crime-Data-from-2020-to-Present/2nrs-mtv8\n",
    "present_df = pd.read_csv(\"Crime_Data_from_2020_to_Present.csv\", dtype = {\"TIME OCC\": str})\n",
    "\n",
    "LAPD_df = pd.read_csv(\"LAPD_Police_Stations.csv\")\n",
    "\n",
    "# past dataset has column name typo\n",
    "past_df = past_df.rename(columns={\"AREA \": \"AREA\"})\n",
    "\n",
    "# Both datasets use the same columns \n",
    "df = pd.concat([past_df, present_df])"
   ]
  },
  {
   "cell_type": "code",
   "execution_count": null,
   "metadata": {},
   "outputs": [],
   "source": [
    "# Dropping code columns since these are internal use and we don't get much \n",
    "# value from them given we have their description in a seperate column\n",
    "df = df.drop(columns=[\n",
    "    \"Crm Cd\", \"Crm Cd 1\", \"Crm Cd 2\", \"Crm Cd 3\", \n",
    "    \"Crm Cd 4\", \"Premis Cd\", \"Weapon Used Cd\", \n",
    "    \"Mocodes\", \"Part 1-2\", \"Status\", \"Date Rptd\"\n",
    "    ])\n",
    "\n",
    "# Changed code to be readable description\n",
    "df[\"Vict Descent\"] = df[\"Vict Descent\"].replace({\n",
    "                            \"A\": \"Other Asian\", \n",
    "                            \"B\": \"Black\", \n",
    "                            \"C\": \"Chinese\", \n",
    "                            \"D\": \"Cambodian\", \n",
    "                            \"F\": \"Filipino\", \n",
    "                            \"G\": \"Guamanian\", \n",
    "                            \"H\": \"Hispanic/Latin/Mexican\", \n",
    "                            \"I\": \"American Indian/Alaskan Native\", \n",
    "                            \"J\": \"Japanese\", \n",
    "                            \"K\": \"Korean\", \n",
    "                            \"L\": \"Laotian\", \n",
    "                            \"O\": \"Other\", \n",
    "                            \"P\": \"Pacific Islander\", \n",
    "                            \"S\": \"Samoan\", \n",
    "                            \"U\": \"Hawaiian\", \n",
    "                            \"V\": \"Vietnamese\", \n",
    "                            \"W\": \"White\", \n",
    "                            \"X\": \"Unknown\", \n",
    "                            \"Z\": \"Asian Indian\",\n",
    "                        })\n",
    "\n",
    "# Renamed X,Y to Longitude, Latitude\n",
    "LAPD_df = LAPD_df.rename(columns={\n",
    "    \"X\": \"Longitude\", \n",
    "    \"Y\": \"Latitude\"\n",
    "    })"
   ]
  },
  {
   "cell_type": "markdown",
   "metadata": {},
   "source": [
    "# Data Analysis & Results (EDA)"
   ]
  },
  {
   "cell_type": "markdown",
   "metadata": {},
   "source": [
    "Carry out EDA on your dataset(s); Describe in this section"
   ]
  },
  {
   "cell_type": "code",
   "execution_count": null,
   "metadata": {},
   "outputs": [],
   "source": [
    "df.head()"
   ]
  },
  {
   "attachments": {},
   "cell_type": "markdown",
   "metadata": {},
   "source": [
    "One thing that we would be interested in knowing is if there is an equal distribution of crimes between police stations. From this we can see that there is a difference between how many cases each station has handled. This could either mean that some police stations are responsible for a larger area or there are more crimes happening in the areas those stations are covering. "
   ]
  },
  {
   "cell_type": "code",
   "execution_count": null,
   "metadata": {},
   "outputs": [],
   "source": [
    "import matplotlib.pyplot as plt"
   ]
  },
  {
   "cell_type": "code",
   "execution_count": null,
   "metadata": {},
   "outputs": [],
   "source": [
    "df[\"AREA NAME\"].value_counts().plot(kind=\"barh\")"
   ]
  },
  {
   "attachments": {},
   "cell_type": "markdown",
   "metadata": {},
   "source": [
    "Analyzing types of crime"
   ]
  },
  {
   "cell_type": "code",
   "execution_count": null,
   "metadata": {},
   "outputs": [],
   "source": [
    "df[\"Crm Cd Desc\"].unique()"
   ]
  },
  {
   "cell_type": "code",
   "execution_count": null,
   "metadata": {},
   "outputs": [],
   "source": [
    "print(len(df[\"Crm Cd Desc\"].unique()))"
   ]
  },
  {
   "cell_type": "code",
   "execution_count": null,
   "metadata": {},
   "outputs": [],
   "source": [
    "#Analyze some common types of crimes\n",
    "\n",
    "df['CRIME_TYPE_GROUP'] = df['Crm Cd Desc'].apply(lambda x: 'Petty' if 'PETTY' in x \n",
    "                                        else ('Child' if 'CHILD' in x \n",
    "                                        else ('Sexual' if 'SEX' in x \n",
    "                                        else ('Battery' if 'BATTERY' in x \n",
    "                                        else ('Assault' if 'ASSAULT' in x \n",
    "                                        else 'Other')))))"
   ]
  },
  {
   "cell_type": "code",
   "execution_count": null,
   "metadata": {},
   "outputs": [],
   "source": [
    "df['CRIME_TYPE_GROUP'].value_counts()"
   ]
  },
  {
   "attachments": {},
   "cell_type": "markdown",
   "metadata": {},
   "source": [
    "Analyze the demographic of victims"
   ]
  },
  {
   "cell_type": "code",
   "execution_count": null,
   "metadata": {},
   "outputs": [],
   "source": [
    "df_age = df[df['Vict Age'] > 0 ]['Vict Age']\n",
    "df_age.describe()"
   ]
  },
  {
   "cell_type": "code",
   "execution_count": null,
   "metadata": {},
   "outputs": [],
   "source": [
    "\n",
    "\n",
    "\n",
    "plt.bar(df_age.value_counts().index, df_age.value_counts().values)\n",
    "\n",
    "# Add labels and a title\n",
    "plt.xlabel('Age')\n",
    "plt.ylabel('Count')\n",
    "plt.title('Counts of Crime Victims by Age')"
   ]
  },
  {
   "cell_type": "code",
   "execution_count": null,
   "metadata": {},
   "outputs": [],
   "source": [
    "df_vict_s = df[(df['Vict Sex'] == 'M')| (df['Vict Sex'] == 'F')]['Vict Sex']\n",
    "\n",
    "plt.bar(df_vict_s.value_counts().index, df_vict_s.value_counts().values)\n",
    "\n",
    "# Add labels and a title\n",
    "plt.xlabel('Victim Sex')\n",
    "plt.ylabel('Count')\n",
    "plt.title('Counts of Crime Victims by Sex')"
   ]
  },
  {
   "attachments": {},
   "cell_type": "markdown",
   "metadata": {},
   "source": [
    "There are more Male victims than Female victims"
   ]
  },
  {
   "cell_type": "code",
   "execution_count": null,
   "metadata": {},
   "outputs": [],
   "source": [
    "df_vict_d = df['Vict Descent']"
   ]
  },
  {
   "cell_type": "code",
   "execution_count": null,
   "metadata": {},
   "outputs": [],
   "source": [
    "plt.bar(df_vict_d.value_counts().index, df_vict_d.value_counts().values)\n",
    "\n",
    "# Add labels and a title\n",
    "plt.xlabel('Victim Race')\n",
    "plt.xticks(rotation = 90)\n",
    "plt.ylabel('Count')\n",
    "plt.title('Counts of Crime Victims by Race')"
   ]
  },
  {
   "attachments": {},
   "cell_type": "markdown",
   "metadata": {},
   "source": [
    "## Time of Crime Analysis"
   ]
  },
  {
   "cell_type": "code",
   "execution_count": null,
   "metadata": {},
   "outputs": [],
   "source": [
    "df[\"TIME OCC\"].value_counts()"
   ]
  },
  {
   "attachments": {},
   "cell_type": "markdown",
   "metadata": {},
   "source": [
    "This is to see when do most crimes happen. From this we can see that the most common hour for a crime to occur over the past 13 years was at noon. The least common time for a crime to occur was at 5 am. However this is a massive spike at 12 which is odd. A reason for this could be that the dataset only counts crimes reported which means that since it is noon, more people are out and can see/report on a crime. In contrast, people are sleeping at night so there are less people reporting crimes. Another reason for this could be that when a crime happens, they are more focused on the criminal instead of what time it is so when they make a report to an officer, they may choose noon due to it being daylight."
   ]
  },
  {
   "cell_type": "code",
   "execution_count": null,
   "metadata": {},
   "outputs": [],
   "source": [
    "df[\"TIME OCC\"].str[:2].value_counts().sort_index().plot()"
   ]
  },
  {
   "cell_type": "code",
   "execution_count": null,
   "metadata": {},
   "outputs": [],
   "source": [
    "df[\"TIME OCC\"].str[:2].value_counts()"
   ]
  },
  {
   "attachments": {},
   "cell_type": "markdown",
   "metadata": {},
   "source": [
    "Group times into \"morning\" , \"afternoon\", \"evening\", and \"night\""
   ]
  },
  {
   "cell_type": "code",
   "execution_count": null,
   "metadata": {},
   "outputs": [],
   "source": [
    "df[\"TIME OCC\"].str[:2].astype(int)"
   ]
  },
  {
   "cell_type": "code",
   "execution_count": null,
   "metadata": {},
   "outputs": [],
   "source": [
    "# Define a dictionary to map the times to time of day categories\n",
    "time_dict = {'Morning': range(5, 12),\n",
    "             'Afternoon': range(12, 18),\n",
    "             'Evening': range(18, 24),\n",
    "             'Night': range(0,5)}\n",
    "\n",
    "# Use the pandas map function to create a new column with the time of day categories\n",
    "df['TIME_OCC_GROUP'] = df[\"TIME OCC\"].str[:2].astype(int).map(lambda x: next((k for k, v in time_dict.items() if int(x) in v), None))"
   ]
  },
  {
   "cell_type": "code",
   "execution_count": null,
   "metadata": {},
   "outputs": [],
   "source": [
    "df['TIME_OCC_GROUP'].value_counts()"
   ]
  },
  {
   "cell_type": "code",
   "execution_count": null,
   "metadata": {},
   "outputs": [],
   "source": [
    "df['TIME_OCC_GROUP'].value_counts().values"
   ]
  },
  {
   "cell_type": "code",
   "execution_count": null,
   "metadata": {},
   "outputs": [],
   "source": [
    "# Create a barplot using matplotlib\n",
    "plt.bar(df['TIME_OCC_GROUP'].value_counts().index, df['TIME_OCC_GROUP'].value_counts().values)\n",
    "\n",
    "# Add labels and a title\n",
    "plt.xlabel('Time of Day')\n",
    "plt.ylabel('Count')\n",
    "plt.title('Counts of Crime by Time of Day')\n",
    "\n",
    "# Show the plot\n",
    "plt.show()"
   ]
  },
  {
   "attachments": {},
   "cell_type": "markdown",
   "metadata": {},
   "source": [
    "#### Explore time of crime and demographic variables"
   ]
  },
  {
   "cell_type": "code",
   "execution_count": null,
   "metadata": {},
   "outputs": [],
   "source": [
    "df_sex = df[(df['Vict Sex'] == 'M')| (df['Vict Sex'] == 'F')]\n",
    "df_sex = pd.DataFrame(df_sex.groupby(['Vict Sex', 'TIME_OCC_GROUP']).count()['TIME OCC'])"
   ]
  },
  {
   "cell_type": "code",
   "execution_count": null,
   "metadata": {},
   "outputs": [],
   "source": [
    "print(df_sex)"
   ]
  },
  {
   "cell_type": "code",
   "execution_count": null,
   "metadata": {},
   "outputs": [],
   "source": [
    "df[\"DATE OCC\"].value_counts().sort_index()"
   ]
  },
  {
   "cell_type": "code",
   "execution_count": null,
   "metadata": {},
   "outputs": [],
   "source": [
    "pd.to_datetime(df[\"DATE OCC\"]).value_counts().sort_index().plot()"
   ]
  },
  {
   "attachments": {},
   "cell_type": "markdown",
   "metadata": {},
   "source": [
    "Seems like there are more crimes happening during new years?"
   ]
  },
  {
   "cell_type": "code",
   "execution_count": null,
   "metadata": {},
   "outputs": [],
   "source": [
    "df.head()"
   ]
  },
  {
   "cell_type": "code",
   "execution_count": null,
   "metadata": {},
   "outputs": [],
   "source": [
    "pd.to_datetime(df[\"DATE OCC\"]).value_counts()"
   ]
  },
  {
   "attachments": {},
   "cell_type": "markdown",
   "metadata": {},
   "source": [
    "Number of crimes reported plotted by month and year"
   ]
  },
  {
   "cell_type": "code",
   "execution_count": null,
   "metadata": {},
   "outputs": [],
   "source": [
    "pd.to_datetime(df[\"DATE OCC\"]).dt.to_period('M').value_counts().sort_index().plot()"
   ]
  },
  {
   "cell_type": "code",
   "execution_count": null,
   "metadata": {},
   "outputs": [],
   "source": [
    "pd.to_datetime(df[\"DATE OCC\"]).dt.to_period('M').value_counts()"
   ]
  },
  {
   "attachments": {},
   "cell_type": "markdown",
   "metadata": {},
   "source": [
    "In which month of the year is crime typically higher?"
   ]
  },
  {
   "cell_type": "code",
   "execution_count": null,
   "metadata": {},
   "outputs": [],
   "source": [
    "months = pd.to_datetime(df[\"DATE OCC\"]).dt.month\n",
    "\n",
    "# Create a barplot using matplotlib\n",
    "plt.bar(months.value_counts().index, months.value_counts().values)\n",
    "\n",
    "# Add labels and a title\n",
    "plt.xlabel('Month')\n",
    "plt.ylabel('Count')\n",
    "plt.title('Counts of Crime by Month')\n",
    "\n",
    "# Show the plot\n",
    "plt.show()"
   ]
  },
  {
   "attachments": {},
   "cell_type": "markdown",
   "metadata": {},
   "source": [
    "It looks like crime is pretty much equally spread out throughout the year, except for January."
   ]
  },
  {
   "attachments": {},
   "cell_type": "markdown",
   "metadata": {},
   "source": [
    "This is number of crims reported over years. 2023 is extremely low because the year is going on."
   ]
  },
  {
   "cell_type": "code",
   "execution_count": null,
   "metadata": {},
   "outputs": [],
   "source": [
    "pd.to_datetime(df[\"DATE OCC\"]).dt.to_period('Y').value_counts().sort_index().plot()"
   ]
  },
  {
   "cell_type": "code",
   "execution_count": null,
   "metadata": {},
   "outputs": [],
   "source": [
    "pd.to_datetime(df[\"DATE OCC\"]).dt.to_period('Y').value_counts()"
   ]
  },
  {
   "attachments": {},
   "cell_type": "markdown",
   "metadata": {},
   "source": [
    "Removing 2023 to get a better graph. We can see some oddities. 2013, 2014, and 2020 are low in comparison to other years. 2020 is likely due to the pandemic since everyone was encouraged to stay at home which leads to less crimes reported (and maybe less crimes happening?). I have no idea of any reason to explain why 2013 and 2014 are so low. In addition its a bit weird that crime starts picking to make a curve at 2017. Also a massive spite at 2022 as well but not too sure of the reason there. "
   ]
  },
  {
   "cell_type": "code",
   "execution_count": null,
   "metadata": {},
   "outputs": [],
   "source": [
    "pd.to_datetime(df[\"DATE OCC\"]).dt.to_period('Y').value_counts().sort_index()[:-1].plot()"
   ]
  },
  {
   "cell_type": "code",
   "execution_count": null,
   "metadata": {},
   "outputs": [],
   "source": [
    "LAPD_df.head()"
   ]
  },
  {
   "attachments": {},
   "cell_type": "markdown",
   "metadata": {},
   "source": [
    "## Looking at New Years data from 2010 to 2023"
   ]
  },
  {
   "cell_type": "code",
   "execution_count": null,
   "metadata": {},
   "outputs": [],
   "source": [
    "# Make a copy of the dataframe and create a new one with a datetime column for easy filtering\n",
    "datetime_col = pd.to_datetime(df['DATE OCC'])\n",
    "new_df = df.copy()\n",
    "new_df['Date'] = datetime_col\n",
    "new_df.head()"
   ]
  },
  {
   "cell_type": "code",
   "execution_count": null,
   "metadata": {},
   "outputs": [],
   "source": [
    "# Create new dataframe that only contains crimes on New Years Day from 2010 - 2023\n",
    "new_years = new_df[(new_df['Date'].dt.month == 1) & (new_df['Date'].dt.day == 1)]\n",
    "new_years.head()"
   ]
  },
  {
   "cell_type": "code",
   "execution_count": null,
   "metadata": {},
   "outputs": [],
   "source": [
    "# Over 20,000 crimes committed on the 13 New Years day's alone!\n",
    "new_years.shape"
   ]
  },
  {
   "attachments": {},
   "cell_type": "markdown",
   "metadata": {},
   "source": [
    "#### 13 days are accounting for over 20,000 crimes in total, with an average of 1558 per day"
   ]
  },
  {
   "cell_type": "code",
   "execution_count": null,
   "metadata": {},
   "outputs": [],
   "source": [
    "20262/13"
   ]
  },
  {
   "cell_type": "code",
   "execution_count": null,
   "metadata": {},
   "outputs": [],
   "source": [
    "365 * 12 + (80)"
   ]
  },
  {
   "cell_type": "code",
   "execution_count": null,
   "metadata": {},
   "outputs": [],
   "source": [
    "(df.shape[0] / 4460) * 13"
   ]
  },
  {
   "cell_type": "code",
   "execution_count": null,
   "metadata": {},
   "outputs": [],
   "source": [
    "new_years['Vict Descent'].value_counts()"
   ]
  },
  {
   "cell_type": "code",
   "execution_count": null,
   "metadata": {},
   "outputs": [],
   "source": [
    "top_20 = new_years['Crm Cd Desc'].value_counts()[:20]\n",
    "top_20"
   ]
  },
  {
   "cell_type": "code",
   "execution_count": null,
   "metadata": {},
   "outputs": [],
   "source": [
    "plt.bar(top_20.index, top_20)\n",
    "plt.xticks(rotation = 90)\n",
    "plt.show()"
   ]
  },
  {
   "cell_type": "code",
   "execution_count": null,
   "metadata": {},
   "outputs": [],
   "source": [
    "import geopandas as gpd\n",
    "import matplotlib.pyplot as plt\n",
    "\n",
    "# https://geohub.lacity.org/datasets/031d488e158144d0b3aecaa9c888b7b3_0/explore?location=33.985210%2C-118.389876%2C11.32\n",
    "\n",
    "map_df = gpd.read_file('LAPD_Divisions.shp')\n",
    "map_df.plot(color='gray')\n",
    "\n",
    "df_plot = df.loc[(df['LAT'] >= 33.7) & (df['LAT'] <= 34.37) & (df['LON'] >= -118.7) & (df['LON'] <= -118.15)]\n",
    "\n",
    "fig, ax = plt.subplots(1, figsize = (20, 12))\n",
    "map_df.boundary.plot(color='black', ax=ax)\n",
    "df_plot.plot(ax=ax, x='LON', y='LAT', kind='scatter', color='red',  s=0.1, alpha=0.5)\n",
    "LAPD_df.plot(ax=ax, x='Longitude', y='Latitude', kind='scatter', s=5)\n",
    "\n",
    "LAPD_df.merge(df.groupby('AREA')[['DR_NO']].count(), left_on='PREC', right_on='DR_NO')"
   ]
  },
  {
   "cell_type": "code",
   "execution_count": null,
   "metadata": {},
   "outputs": [],
   "source": []
  }
 ],
 "metadata": {
  "kernelspec": {
   "display_name": "Python 3",
   "language": "python",
   "name": "python3"
  },
  "language_info": {
   "codemirror_mode": {
    "name": "ipython",
    "version": 3
   },
   "file_extension": ".py",
   "mimetype": "text/x-python",
   "name": "python",
   "nbconvert_exporter": "python",
   "pygments_lexer": "ipython3",
   "version": "3.9.13"
  }
 },
 "nbformat": 4,
 "nbformat_minor": 2
}
