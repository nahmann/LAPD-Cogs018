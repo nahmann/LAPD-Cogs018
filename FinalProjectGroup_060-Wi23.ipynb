{
 "cells": [
  {
   "cell_type": "markdown",
   "metadata": {},
   "source": [
    "# COGS 108 - Final Project (change this to your project's title)"
   ]
  },
  {
   "cell_type": "markdown",
   "metadata": {},
   "source": [
    "## Permissions\n",
    "\n",
    "Place an `X` in the appropriate bracket below to specify if you would like your group's project to be made available to the public. (Note that student names will be included (but PIDs will be scraped from any groups who include their PIDs).\n",
    "\n",
    "* [  ] YES - make available\n",
    "* [  ] NO - keep private"
   ]
  },
  {
   "cell_type": "markdown",
   "metadata": {},
   "source": [
    "# Overview"
   ]
  },
  {
   "attachments": {},
   "cell_type": "markdown",
   "metadata": {},
   "source": [
    "Our project aims to shine light on the issues of crime rate in Los Angeles county and explores its relationship with the locations of police stations. By utilizing the data of crime records collected by the LA Police Department from 2010-present combined with current locations of LAPD police stations, we attempted a geographic data analysis and discovered trends in crime types and the locations associated with it. We found that [signficant founding from geopandas EDA here]\n",
    "\n",
    "Furthermore, we performed clustering algorithms that propose alternative/new locations for police stations around the county to more effectively distribute station locations. [Talk about kmeans not being able to evenly distribute crime to stations?] Through this we conclude that [TBD]"
   ]
  },
  {
   "attachments": {},
   "cell_type": "markdown",
   "metadata": {},
   "source": [
    "# Names\n",
    "- Nathan Ahmann\n",
    "- Alex Guan\n",
    "- Alan Miyazaki\n",
    "- Renaldy Herlim"
   ]
  },
  {
   "cell_type": "markdown",
   "metadata": {},
   "source": [
    "<a id='research_question'></a>\n",
    "# Research Question"
   ]
  },
  {
   "attachments": {},
   "cell_type": "markdown",
   "metadata": {},
   "source": [
    "Does crime happen more or less frequently around police stations and can that knowledge be used to more effectively distribute police station locations?"
   ]
  },
  {
   "cell_type": "markdown",
   "metadata": {},
   "source": [
    "<a id='background'></a>\n",
    "\n",
    "## Background & Prior Work"
   ]
  },
  {
   "attachments": {},
   "cell_type": "markdown",
   "metadata": {},
   "source": [
    "Los Angeles has solidified itself as a historic city in America, with positive connotations such as art and film, along with negative ones such as crime rate. The latter has especially had an impact on the culture surrounding the city, as policing of the area has only grown to be more controversial. The city has observed a wide variety of crimes, ranging from petty theft to mass shootings. Due to how controversial the policing of the country has been, especially with the increasing prevalence of movements like BLM, Los Angeles has had the effectiveness of its law enforcement questioned. NPR discusses this topic during Planet Money: \"When You Add More Police To A City, What Happens?\"[^NPR], which explores how effective mass policing is for cities with varying levels of crime. Economists appear to have evidence that increasing the police force for the average city helps to prevent crime overall, but this is not observed in certain areas with a larger Black population. While there is an increase in arrests for lower level crimes, it seems that the homicide rate is effectively left unchanged. The article points to areas in the South and Midwest with this description, so our group wanted to consider the West Coast and specifically Los Angeles.\n",
    "\n",
    "The Violence Project[^Violence] takes a comprehensive look at mass shootings from around the country in the past sixty years, with a total of 187 up to March 2021. The database contains over 200 different variables to preview, allowing someone to explore motivations, weapons, background, etc. The website directly provides the ability to filter through the list of shooters, and additionally contains statistics on how prevalent they are in the data. This project in particular is focused exclusively on mass shootings and contains less than 200 rows of data (thankfully), so we decided to expand our project to all forms of crime within LA county.\n",
    "\n",
    "With all of the former in mind, we settled on investigating how the proximity of police stations may impact the crime in certain parts of Los Angeles. A common train of thought is that less crime would happen around police stations because they would act as deterents against crime. One related study found that crime rate increased around areas where a police station closed [^blesse]. They suggested that this supported previous papers claiming that more police stations are effective at detering crime, but that the measurement of deterence is hard to calculate. Another paper found more some actual numbers, stating that police stations in Buenos Aires created a 500-600m zone of decreased crime [^fondevila]. This is more in line with what we would like to investigate. By considering location data, we can see if police station prescene has any effects on the number of crimes or on the types of crimes commited.\n",
    "\n",
    "[^blesse] Blesse, S., &amp; Diegmann, A. (2022). The place-based effects of police stations on crime: Evidence from station closures. Journal of Public Economics, 207, 104605. https://doi.org/10.1016/j.jpubeco.2022.104605 \n",
    "\n",
    "[^fondevila] Fondevila, G., Vilalta-Perdomo, C., Galindo Pérez, M. C., &amp; Cafferata, F. G. (2021). Crime deterrent effect of police stations. Applied Geography, 134, 102518. https://doi.org/10.1016/j.apgeog.2021.102518 \n",
    "\n",
    "[^NPR] Rosalsky, G. (2021, April 20). When you add more police to a city, what happens? NPR. Retrieved March 5, 2023, from https://www.npr.org/sections/money/2021/04/20/988769793/when-you-add-more-police-to-a-city-what-happens \n",
    "\n",
    "[^Violence] Most comprehensive mass shooter database. The Violence Project. (2023, January 31). Retrieved March 5, 2023, from https://www.theviolenceproject.org/mass-shooter-database/ "
   ]
  },
  {
   "cell_type": "markdown",
   "metadata": {},
   "source": [
    "# Hypothesis\n"
   ]
  },
  {
   "attachments": {},
   "cell_type": "markdown",
   "metadata": {},
   "source": [
    "\n",
    "We believe that less crime will happen closer to police stations which would imply that the presence of a police station deters crime. If criminal activity happens less around police stations then it would be important to effectively spread out police stations in order to minimize crime rate as a whole."
   ]
  },
  {
   "cell_type": "markdown",
   "metadata": {},
   "source": [
    "# Dataset(s)"
   ]
  },
  {
   "attachments": {},
   "cell_type": "markdown",
   "metadata": {},
   "source": [
    "### Dataset 1: Los Angeles Police Station Location\n",
    "[Link to dataset](https://geohub.lacity.org/datasets/lapd-police-stations)  \n",
    "Number of observations: 21\n",
    "\n",
    "This dataset contains information on all 21 of LA City's Police Stations. If we find that our crime data extends past the city or want a more precise location, then we might make use of the extended data for LA county that includes more Police Stations and additioanlly includes Sheriff stations.\n",
    "\n",
    "Each row of the dataset contains information for one police station.  \n",
    "The relevant columns are:\n",
    "* DIVISION - the division the police station is under\n",
    "* LOCATION - an address for the police station. Since we would rather have a more precise location we might convert these to latitude/longitude or use the alternative dataset.\n",
    "* PREC - the precinct each station is in charge of \n",
    "\n",
    "\n",
    "#### Alternate Dataset that is for the entire LA county and includes Sheriff Stations:  \n",
    "[Link to alternate dataset](https://geohub.lacity.org/datasets/lacounty::sheriff-and-police-stations)  \n",
    "Number of observations: 105\n",
    "\n",
    "This dataset contains information on 105 of LA County's Police and Sheriff Stations. It contains more data than the above dataset, but some of the information might not be necessary so we listed it as an alternative.\n",
    "\n",
    "Each row of the dataset contains information for one police or sheriff station.  \n",
    "The relevant columns are:\n",
    "* cat3 - Category 3 has a distinction between sheriff and police stations\n",
    "* latitude, longitude - self explanatory\n",
    "* addrln1 - address line 1 contains an address we could use for locaiton instead of latitude, longitude\n",
    "* city - Contains the city so we could narrow it down to LA city\n",
    "\n",
    "\n",
    "### Dataset 2: Los Angeles Crime Data from 2020 to Present (March 1st 2023)  \n",
    "[Link to dataset](https://data.lacity.org/Public-Safety/Crime-Data-from-2020-to-Present/2nrs-mtv8) \n",
    "  \n",
    "Number of observations: 673,367 \n",
    "\n",
    "This dataset includes information on crimes that took place in Los Angeles between 2020 and March 1st 2023.\n",
    "Since Dataset 2 and 3 have the same columns, the row information and relevant column is below.\n",
    "\n",
    "### Dataset 3: Los Angeles Crime Data from 2010 to 2019\n",
    "[Link to dataset](https://data.lacity.org/Public-Safety/Crime-Data-from-2010-to-2019/63jg-8b9z)\n",
    "  \n",
    "Number of observations: 2,119,797 \n",
    "\n",
    "This dataset includes information on crimes that took place in Los Angeles between 2010 and 2019.  \n",
    "\n",
    "Each row represents a single crime that took place.\n",
    "The relevant columns are:\n",
    "* DR_NO - Divisions of Records number. Acts as an unique ID for the crime\n",
    "* DATE_OCC - The date that the crime occured\n",
    "* AREA - contains the geographic area code for the police station. These are 1-21 and correspond to 1 of the 21 police stations.\n",
    "* Crm Cd Desc - description of the criminal code. Essentially a human readable crime category\n",
    "* LOCATION - street address the crime took place at\n",
    "* LAT, LONG - latitude and longitude\n",
    "\n",
    "### Combining the Datasets\n",
    "\n",
    "Dataset 1 will be our police station information so it will stay as it's own dataset. In our analysis we will use it in conjunction with the other datasets via location data, which will likely be latitude/longitude.\n",
    "\n",
    "Dataset 2 and 3 contain our crime data. Due to coming from the same source, they are quite easy to combine and contain the same columns so we can simply concatenate them together."
   ]
  },
  {
   "cell_type": "markdown",
   "metadata": {},
   "source": [
    "# Setup"
   ]
  },
  {
   "cell_type": "code",
   "execution_count": null,
   "metadata": {},
   "outputs": [],
   "source": [
    "import pandas as pd\n",
    "import numpy as np\n",
    "import matplotlib.pyplot as plt\n",
    "\n",
    "import datetime\n",
    "\n",
    "import geopandas as gpd\n",
    "\n",
    "from sklearn.cluster import KMeans"
   ]
  },
  {
   "cell_type": "markdown",
   "metadata": {},
   "source": [
    "# Data Cleaning"
   ]
  },
  {
   "attachments": {},
   "cell_type": "markdown",
   "metadata": {},
   "source": [
    "Since the two crime datasets were from the same organization (LAPD), the two sets were really easy to combine. The only change that needed to be done was that the dataset from 2010-2019 had a space in column name for Area while the dataset for 2020-present did not. Aside from this, all other columns were the same and the datasets were easily combined."
   ]
  },
  {
   "cell_type": "code",
   "execution_count": null,
   "metadata": {},
   "outputs": [],
   "source": [
    "# Reading datasets from two different time periods\n",
    "\n",
    "# https://data.lacity.org/Public-Safety/Crime-Data-from-2010-to-2019/63jg-8b9z\n",
    "past_df = pd.read_csv(\"Crime_Data_from_2010_to_2019.csv\", dtype = {\"TIME OCC\": str})\n",
    "# https://data.lacity.org/Public-Safety/Crime-Data-from-2020-to-Present/2nrs-mtv8\n",
    "present_df = pd.read_csv(\"Crime_Data_from_2020_to_Present.csv\", dtype = {\"TIME OCC\": str})\n",
    "\n",
    "LAPD_df = pd.read_csv(\"LAPD_Police_Stations.csv\")\n",
    "\n",
    "# past dataset has column name typo\n",
    "past_df = past_df.rename(columns={\"AREA \": \"AREA\"})\n",
    "\n",
    "# Both datasets use the same columns \n",
    "df = pd.concat([past_df, present_df])"
   ]
  },
  {
   "attachments": {},
   "cell_type": "markdown",
   "metadata": {},
   "source": [
    "The crime dataset had quite a few columns that were unnecessary to us. Mainly these were columns containing codes that law enforcement used internally. However, these columns usually had a description column in the dataset so the code column was unnecessary for us. The only exception were Mocodes and Part 1-2 which are internally used codes but did not contain an associated description column. However after looking into what these codes meant, it was decided that they did not provide any use to us and were removed. In addition to this, we also removed Date Rptd, date crime was reported, since we only care about when the crime occured and not when it was reported. We also replaced the codes in Vict Descent with their actual descriptions that was provided in the site the dataset came from."
   ]
  },
  {
   "cell_type": "code",
   "execution_count": null,
   "metadata": {},
   "outputs": [],
   "source": [
    "# Dropping code columns since these are internal use and we don't get much \n",
    "# value from them given we have their description in a seperate column\n",
    "df = df.drop(columns=[\n",
    "    \"Crm Cd\", \"Crm Cd 1\", \"Crm Cd 2\", \"Crm Cd 3\", \n",
    "    \"Crm Cd 4\", \"Premis Cd\", \"Weapon Used Cd\", \n",
    "    \"Mocodes\", \"Part 1-2\", \"Status\", \"Date Rptd\"\n",
    "    ])\n",
    "\n",
    "# Changed code to be readable description\n",
    "df[\"Vict Descent\"] = df[\"Vict Descent\"].replace({\n",
    "                            \"A\": \"Other Asian\", \n",
    "                            \"B\": \"Black\", \n",
    "                            \"C\": \"Chinese\", \n",
    "                            \"D\": \"Cambodian\", \n",
    "                            \"F\": \"Filipino\", \n",
    "                            \"G\": \"Guamanian\", \n",
    "                            \"H\": \"Hispanic/Latin/Mexican\", \n",
    "                            \"I\": \"American Indian/Alaskan Native\", \n",
    "                            \"J\": \"Japanese\", \n",
    "                            \"K\": \"Korean\", \n",
    "                            \"L\": \"Laotian\", \n",
    "                            \"O\": \"Other\", \n",
    "                            \"P\": \"Pacific Islander\", \n",
    "                            \"S\": \"Samoan\", \n",
    "                            \"U\": \"Hawaiian\", \n",
    "                            \"V\": \"Vietnamese\", \n",
    "                            \"W\": \"White\", \n",
    "                            \"X\": \"Unknown\", \n",
    "                            \"Z\": \"Asian Indian\",\n",
    "                        })"
   ]
  },
  {
   "attachments": {},
   "cell_type": "markdown",
   "metadata": {},
   "source": [
    "Additionally, we noticed that some of the longitudes and latitudes weren't in Los Angeles when we tried to plot them. Specifically a lot of data was at 0,0. While we could possibly figure out an estimated longitude and latitude since they still had data in the location column, we instead decided to drop them since there was not a large amount."
   ]
  },
  {
   "cell_type": "code",
   "execution_count": null,
   "metadata": {},
   "outputs": [],
   "source": [
    "before_size = df.shape[0]\n",
    "df = df.drop(df.loc[df['LAT'] < 10].index)\n",
    "df = df.drop(df.loc[df['LON'] > -10].index)\n",
    "after_size = df.shape[0]\n",
    "print('Before: ', before_size)\n",
    "print('After: ', after_size)\n",
    "print('Dropped',before_size - after_size,'rows, which is',(before_size - after_size) / before_size,'% of the entire dataset')"
   ]
  },
  {
   "attachments": {},
   "cell_type": "markdown",
   "metadata": {},
   "source": [
    "Lastly, we needed to clean up the date and time columns\n",
    "\n",
    "add datetime conversion\n",
    "maybe rename some columns for neatness/readability"
   ]
  },
  {
   "attachments": {},
   "cell_type": "markdown",
   "metadata": {},
   "source": [
    "To combine our geospatial datasets and make them work with our crime dataset, we had to rename some columns and do some merges. First, we changed the X, Y system used on the LAPD dataset to longitude, latitude to match the crime dataset naming convention.\n",
    "\n",
    "Additionally, we had to make use of geopandas to read in the precinct area data. This dataset just contains shapes and areas for each precinct and is used for plotting and area data."
   ]
  },
  {
   "cell_type": "code",
   "execution_count": null,
   "metadata": {},
   "outputs": [],
   "source": [
    "# Renamed X,Y to Longitude, Latitude\n",
    "LAPD_df = LAPD_df.rename(columns={\n",
    "    \"X\": \"Longitude\", \n",
    "    \"Y\": \"Latitude\"\n",
    "    })"
   ]
  },
  {
   "attachments": {},
   "cell_type": "markdown",
   "metadata": {},
   "source": [
    "dont forget to redo dataset section on final ver to add in new map dataset. Didn't have previously but need for plotting  \n",
    "\n",
    "Later on in our EDA and analysis we do some additional operations that could be considered data cleaning. These were done for calculated fields or for specific plotting/analysis purposes. We left them in their own sections to make the code easier to follow and because our dataset at this point represents a cleaned dataset that others could use for their own purposes."
   ]
  },
  {
   "cell_type": "markdown",
   "metadata": {},
   "source": [
    "# Data Analysis & Results"
   ]
  },
  {
   "attachments": {},
   "cell_type": "markdown",
   "metadata": {},
   "source": [
    "Check to see if Longitude and Latitude make sense for LA area. (Originally included 0,0 values, now seems to include the expected area)"
   ]
  },
  {
   "cell_type": "code",
   "execution_count": null,
   "metadata": {},
   "outputs": [],
   "source": [
    "pd.DataFrame(columns=['Column','Min', 'Mean', 'Median', 'Max'], data=[\n",
    "    ['LAT', df['LAT'].min(), df['LAT'].mean(), df['LAT'].median(), df['LAT'].max()],\n",
    "    ['LON', df['LON'].min(), df['LON'].mean(), df['LON'].median(), df['LON'].max()]\n",
    "])"
   ]
  },
  {
   "attachments": {},
   "cell_type": "markdown",
   "metadata": {},
   "source": [
    "Even after removing the 0,0 longitude latitude crimes, many crimes happen outside of the zone of any of the precincts (see the plot below). Since we plan to work with location data and clustering, these outliers will cause problems for our analysis. So we removed even more of the data to hone in on the area we truly care about, which is within the precinct boundaries."
   ]
  },
  {
   "cell_type": "code",
   "execution_count": null,
   "metadata": {},
   "outputs": [],
   "source": [
    "map_df = gpd.read_file('LAPD_Divisions.shp')\n",
    "\n",
    "fig, ax = plt.subplots(1, figsize = (20, 12))\n",
    "map_df.boundary.plot(color='black', ax=ax)\n",
    "df.plot(ax=ax, x='LON', y='LAT', kind='scatter', c='AREA',  s=0.1, cmap='viridis')\n",
    "LAPD_df.plot(ax=ax, x='Longitude', y='Latitude', kind='scatter', s=5, c='black')"
   ]
  },
  {
   "cell_type": "code",
   "execution_count": null,
   "metadata": {},
   "outputs": [],
   "source": [
    "# code snippet that could be useful later for determining better bounds\n",
    "# map_df['geometry'].astype(str)\\\n",
    "#     .str[8:]\\\n",
    "#     .str.replace('(', '')\\\n",
    "#     .str.replace(')', '')\\\n",
    "#     .str.replace(',', '')\\\n",
    "#     .str.split(' ')"
   ]
  },
  {
   "cell_type": "code",
   "execution_count": null,
   "metadata": {},
   "outputs": [],
   "source": [
    "before_size = df.shape[0]\n",
    "\n",
    "# arbitrarily chosen bounds for LA area\n",
    "df = df.drop(df.loc[(df['LAT'] <= 33.7) & (df['LAT'] >= 34.37) & (df['LON'] <= -118.7) & (df['LON'] >= -118.15)].index)\n",
    "\n",
    "after_size = df.shape[0]\n",
    "print('Before: ', before_size)\n",
    "print('After: ', after_size)\n",
    "print('Dropped',before_size - after_size,'rows, which is',(before_size - after_size) / before_size,'% of the entire dataset')"
   ]
  },
  {
   "attachments": {},
   "cell_type": "markdown",
   "metadata": {},
   "source": [
    "So now our dataset just contains the areas within the precinct and not a large area around them. This will help with our clustering and our analysis by removing outlier datapoints. These points outside the precinct boundaries seem randomly assigned to precincts or at least use a pattern that was not noted.\n",
    "\n",
    "With this all finished we can plot the whole area again. Additionally we can add each of the latitudes and longitudes from the entire crime set."
   ]
  },
  {
   "cell_type": "code",
   "execution_count": null,
   "metadata": {},
   "outputs": [],
   "source": [
    "map_df = gpd.read_file('LAPD_Divisions.shp')\n",
    "df_plot = df.loc[(df['LAT'] >= 33.7) & (df['LAT'] <= 34.37) & (df['LON'] >= -118.7) & (df['LON'] <= -118.15)]\n",
    "\n",
    "fig, ax = plt.subplots(1, figsize = (20, 12))\n",
    "map_df.boundary.plot(color='black', ax=ax)\n",
    "df_plot.plot(ax=ax, x='LON', y='LAT', kind='scatter', c='AREA',  s=0.1, alpha=0.5, cmap='viridis')\n",
    "LAPD_df.plot(ax=ax, x='Longitude', y='Latitude', kind='scatter', s=5, c='black')"
   ]
  },
  {
   "attachments": {},
   "cell_type": "markdown",
   "metadata": {},
   "source": [
    "So the crime distribution is largely containted within the precincts. The black dots are the police station locations themselves. A good thing to take note of is that the police stations are not centered in their respective zones. While some are roughly in the middle, there are also some on the edge of their zones. This is interesting since for effective coverage we would expect them to be centered so they can optimally cover their area. This will likely affect our analysis since our calculated locations will be centered on the crime around them and thus would likely be centered in their zones."
   ]
  },
  {
   "attachments": {},
   "cell_type": "markdown",
   "metadata": {},
   "source": [
    "### Crime Counts in Relation to Precinct"
   ]
  },
  {
   "attachments": {},
   "cell_type": "markdown",
   "metadata": {},
   "source": [
    "Since our research question involves location information we want to focus our explorations around that. Specifically we would like to see if there are similar amounts of crimes commited in each precinct, if each precinct has similar areas, if each precinct has similar coverage.\n",
    "\n",
    "First let's look at the number of crimes in each precinct.\n",
    "\n",
    "One thing that we would be interested in knowing is if there is an equal distribution of crimes between police stations. From this we can see that there is a difference between how many cases each station has handled. This could either mean that some police stations are responsible for a larger area or there are more crimes happening in the areas those stations are covering."
   ]
  },
  {
   "cell_type": "code",
   "execution_count": null,
   "metadata": {},
   "outputs": [],
   "source": [
    "# setting up a merged crime count table that has counts and area of precincts using df and map_df\n",
    "crime_counts = map_df.merge(df.groupby('AREA')[['DR_NO']].count().rename(columns={'DR_NO':'CRIME_COUNT'}), left_on='PREC', right_on='AREA')\n",
    "crime_counts = crime_counts.sort_values(by='CRIME_COUNT', ascending=False)\n",
    "crime_counts.plot(kind='barh', x='APREC', y='CRIME_COUNT')"
   ]
  },
  {
   "attachments": {},
   "cell_type": "markdown",
   "metadata": {},
   "source": [
    "While there are a few with less and a few with more it seems that there are similar amounts of crime commited in each precint.\n",
    "\n",
    "But based on our map we know that the precint's are not all the same size, so can the differences in numbers of crime commited be related to size?"
   ]
  },
  {
   "cell_type": "code",
   "execution_count": null,
   "metadata": {},
   "outputs": [],
   "source": [
    "crime_counts['CRIME_COUNT_VS_AREA'] = crime_counts['CRIME_COUNT'] / crime_counts['AREA']\n",
    "\n",
    "crime_counts['scaled_AREA'] = crime_counts['AREA'] / crime_counts['AREA'].max()\n",
    "crime_counts['scaled_CRIME_COUNT'] = crime_counts['CRIME_COUNT'] / crime_counts['CRIME_COUNT'].max()\n",
    "crime_counts['scaled_CRIME_COUNT_VS_AREA'] = crime_counts['CRIME_COUNT_VS_AREA'] / crime_counts['CRIME_COUNT_VS_AREA'].max()\n",
    "crime_counts.plot(\n",
    "    kind='barh', \n",
    "    x='APREC', \n",
    "    y=['scaled_CRIME_COUNT','scaled_AREA','scaled_CRIME_COUNT_VS_AREA'], \n",
    "    subplots=True, layout=(1,3), \n",
    "    figsize=(10, 5), \n",
    "    sharex=True, sharey=True,\n",
    "    legend=False,\n",
    "    title=['Number of Crimes Committed', 'Area of Precinct', 'Number of Crimes Committed/ Area']\n",
    ")"
   ]
  },
  {
   "attachments": {},
   "cell_type": "markdown",
   "metadata": {},
   "source": [
    "All of the values have been scaled\n",
    "The first bar chart is just the number of crimes commited in each area.\n",
    "The second is the area of each precint.\n",
    "The last bar chart is the number of crimes / the area of the precinct.\n",
    "Since the axis are aligned each corresponds to the same area. So despite having an average number of crimes commited, the Central precinct has a very small area compared to the others and gets a higher value on the right bar chart. Since the bars on the right are not all the same size, then that means there is a disparity between the size of a precint and the number of crimes commited there."
   ]
  },
  {
   "cell_type": "markdown",
   "metadata": {},
   "source": [
    "#### ArcGIS Maximize Coverage Method\n",
    "ArcGIS offers algorithms to chose the best locations for a certain goal, the \"Choose Best Facilities\" allows you to choose the best locations for facilities. The tool allocates locations with demand for the facilities in a way that satisfies the specified goal.\n",
    "\n",
    "Our goal is to see if there could be better locations to place police stations so that crimes are evenly more distributed among stations. This algorithm maximizes the amount of demand covered within a specific time or distance of the facilities, in our case we are minimizing the driving time required from police stations to crimes in the area. \n",
    "\n",
    "Demand in our case is the amount of crime, and each demand location is where a crime occurs. For the purpose of simplifying the solution, we will pick an arbitrary type of crime and focus only on crimes that are labeled as \"Attempted Robbery\", and we will be using 2020-Present dataset. This goal chooses facilities such that the maximum amount of demand is allocated, with all the demand from each demand location allocated to the single facility closest to it.\n",
    "\n",
    "In theory we should get the best places to place these stations geographically, but let's see how it does for distributing crimes evenly."
   ]
  },
  {
   "cell_type": "code",
   "execution_count": null,
   "metadata": {},
   "outputs": [],
   "source": [
    "# new_max_stations = pd.read_csv('new_maximized_stations.csv')\n",
    "# new_max_stations = new_max_stations[new_max_stations['Facility Type'] == \"Chosen\"]\n",
    "# new_max_stations.head()"
   ]
  },
  {
   "attachments": {},
   "cell_type": "markdown",
   "metadata": {},
   "source": [
    "New locations of police stations generated by the Maximize Coverage method\n",
    "\n",
    "![new locations](images/new_stations.png \"New Police Stations\")"
   ]
  },
  {
   "attachments": {},
   "cell_type": "markdown",
   "metadata": {},
   "source": [
    "Interestingly when we set the amount of new locations = 21 (The same number of current police stations and number of precincts) the algorithm suggested that multiple police stations be placed on certain precincts and none at all in some of the precincts. This finding suggests that maybe there needs to be reformation in the policing system to maximize coverage of crimes. This could mean that in high demand areas there are not enough police stations to cover for the amount of crime that happens in the area, and in the low demand areas, the amount of policing/stations could potentially be reduced and have those resources be allocated somewhere with a higher crime rate. However, this was done on only one type of crime \"Attempted Robbery\" and the answer can't be generalized to all types of crime. "
   ]
  },
  {
   "attachments": {},
   "cell_type": "markdown",
   "metadata": {},
   "source": [
    "#### Top 5 Crimes Per Area\n",
    "\n",
    "We also would like to explore the top crimes in the city, to see if there appears to be any patterns in what the crimes are and where they may possibly be occuring.\n",
    "\n",
    "To do this we made a list of the top 5 most common crimes in the city, and filtered our df_plot frame to only include crimes that fell into those crime descriptions."
   ]
  },
  {
   "cell_type": "code",
   "execution_count": null,
   "metadata": {},
   "outputs": [],
   "source": [
    "top_5 = pd.Series(df_plot['Crm Cd Desc'].value_counts()[:5].index)\n",
    "top_5_list = np.array(df_plot['Crm Cd Desc'].value_counts()[:5].index)\n",
    "top_5_list"
   ]
  },
  {
   "cell_type": "code",
   "execution_count": null,
   "metadata": {},
   "outputs": [],
   "source": [
    "top_5_plot = df_plot[df_plot['Crm Cd Desc'].isin(top_5_list)]\n",
    "top_5_plot.head()"
   ]
  },
  {
   "cell_type": "markdown",
   "metadata": {},
   "source": [
    "In order to color our map based on different crimes, we needed to change the label of the crimes from categorical to numeric.\n",
    "\n",
    "We did this by creating the function label_change which simply outputted an integer based on which crime was committed. We then added a new column to our top_5_plot dataframe by transforming our crime description column with label_change."
   ]
  },
  {
   "cell_type": "code",
   "execution_count": null,
   "metadata": {},
   "outputs": [],
   "source": [
    "def label_change(string):\n",
    "    if string == top_5[0]:\n",
    "        return 1\n",
    "    elif string == top_5[1]:\n",
    "        return 2\n",
    "    elif string == top_5[2]:\n",
    "        return 3\n",
    "    elif string == top_5[3]:\n",
    "        return 4\n",
    "    else:\n",
    "        return 5"
   ]
  },
  {
   "cell_type": "code",
   "execution_count": null,
   "metadata": {},
   "outputs": [],
   "source": [
    "top_5_plot['Num Crime'] = top_5_plot['Crm Cd Desc'].apply(label_change)"
   ]
  },
  {
   "cell_type": "markdown",
   "metadata": {},
   "source": [
    "The resulting map plots the occurances of the top 5 most common crimes in the dataset, with quite the color variation throughout the city."
   ]
  },
  {
   "cell_type": "code",
   "execution_count": null,
   "metadata": {},
   "outputs": [],
   "source": [
    "map_df = gpd.read_file('LAPD_Divisions.shp')\n",
    "\n",
    "fig, ax = plt.subplots(1, figsize = (20, 12))\n",
    "\n",
    "map_df.boundary.plot(color='black', ax=ax)\n",
    "top_5_plot.plot(ax=ax, x='LON', y='LAT', kind='scatter', c='Num Crime',  s=0.1, alpha=0.5, cmap='jet')"
   ]
  },
  {
   "cell_type": "markdown",
   "metadata": {},
   "source": [
    "We see from the plot that the most common crimes of Simple Assault/Battery and Stolen Vehicles appears to occur in the South East and Northern parts of Los Angeles, notably more inland than the other crimes. Burglary seems to occur towards the coast and outskirts of districts, towards the more Western side of the city. "
   ]
  },
  {
   "attachments": {},
   "cell_type": "markdown",
   "metadata": {},
   "source": [
    "### kmeans"
   ]
  },
  {
   "attachments": {},
   "cell_type": "markdown",
   "metadata": {},
   "source": [
    "Clustering the locations of where crimes occur will give us a general map of how the precints should be divided. In addition, the centers of the clusters would be the optimal locations to put police stations. In this case, we chose to use k-means clustering and we chose the number of clusters to be 21 since there are 21 police stations in LA. "
   ]
  },
  {
   "cell_type": "code",
   "execution_count": null,
   "metadata": {},
   "outputs": [],
   "source": [
    "kmeans = KMeans(n_clusters=21)\n",
    "kmeans.fit(df[[\"LON\", \"LAT\"]])"
   ]
  },
  {
   "attachments": {},
   "cell_type": "markdown",
   "metadata": {},
   "source": [
    "After fitting K-means with the location data, we can then plot everything on a map of LA. In addition, we can also plot which cluster each point is part of which would relate to which station they belong to as well as mapping out the precinct lines."
   ]
  },
  {
   "cell_type": "code",
   "execution_count": null,
   "metadata": {},
   "outputs": [],
   "source": [
    "centers_df = pd.DataFrame(kmeans.cluster_centers_, columns=['Longitude', 'Latitude'])\n",
    "\n",
    "map_df = gpd.read_file('LAPD_Divisions.shp')\n",
    "\n",
    "fig, ax = plt.subplots(1, figsize = (18, 8))\n",
    "map_df.boundary.plot(color='black', ax=ax)\n",
    "\n",
    "\n",
    "# labeling each crime to a cluster\n",
    "df[\"cluster\"] = kmeans.predict(df[[\"LON\", \"LAT\"]])\n",
    "df.plot(ax=ax, x='LON', y='LAT', kind='scatter', c='cluster',  s=0.1, alpha=0.5, cmap='viridis')\n",
    "\n",
    "\n",
    "LAPD_df.plot(ax=ax, x='Longitude', y='Latitude', kind='scatter', s=10, c='orange')\n",
    "centers_df.plot(ax=ax, x='Longitude', y='Latitude', kind='scatter', s=10, c='blue') "
   ]
  },
  {
   "attachments": {},
   "cell_type": "markdown",
   "metadata": {},
   "source": [
    "The graph shows two random dots and does not have a map of LA. This was due to some points being labeled as 0,0 which is why k-means made them into a cluster. To ammend this, we have to filter the coordinates so that they are mapped to the area of LA"
   ]
  },
  {
   "cell_type": "code",
   "execution_count": null,
   "metadata": {},
   "outputs": [],
   "source": [
    "df_plot = df.loc[(df['LAT'] >= 33.7) & (df['LAT'] <= 34.37) & (df['LON'] >= -118.7) & (df['LON'] <= -118.15)]"
   ]
  },
  {
   "cell_type": "code",
   "execution_count": null,
   "metadata": {},
   "outputs": [],
   "source": [
    "kmeans = KMeans(n_clusters=21)\n",
    "kmeans.fit(df_plot[[\"LON\", \"LAT\"]])"
   ]
  },
  {
   "cell_type": "code",
   "execution_count": null,
   "metadata": {},
   "outputs": [],
   "source": [
    "centers_df = pd.DataFrame(kmeans.cluster_centers_, columns=['Longitude', 'Latitude'])\n",
    "\n",
    "fig, ax = plt.subplots(1, figsize = (18, 8))\n",
    "map_df.boundary.plot(color='black', ax=ax)\n",
    "\n",
    "\n",
    "\n",
    "df_plot[\"cluster\"] = kmeans.predict(df_plot[[\"LON\", \"LAT\"]])\n",
    "df_plot.plot(ax=ax, x='LON', y='LAT', kind='scatter', c='cluster',  s=0.1, alpha=0.5, cmap='viridis')\n",
    "\n",
    "\n",
    "LAPD_df.plot(ax=ax, x='Longitude', y='Latitude', kind='scatter', s=10, c='orange')\n",
    "centers_df.plot(ax=ax, x='Longitude', y='Latitude', kind='scatter', s=10, c='blue') "
   ]
  },
  {
   "attachments": {},
   "cell_type": "markdown",
   "metadata": {},
   "source": [
    "We can see that some centers from k-means are actually fairly close to actual police stations. In addition we can see borders of how each precint should be mapped based on k-means clustering."
   ]
  },
  {
   "attachments": {},
   "cell_type": "markdown",
   "metadata": {},
   "source": [
    "Now we check if this has made the distribution of crime per station more even"
   ]
  },
  {
   "cell_type": "code",
   "execution_count": null,
   "metadata": {},
   "outputs": [],
   "source": [
    "df_plot[\"cluster\"].value_counts().plot(kind=\"barh\")"
   ]
  },
  {
   "cell_type": "code",
   "execution_count": null,
   "metadata": {},
   "outputs": [],
   "source": [
    "df_plot[\"AREA NAME\"].value_counts().plot(kind=\"barh\")"
   ]
  },
  {
   "attachments": {},
   "cell_type": "markdown",
   "metadata": {},
   "source": [
    "However, it seems that k-means has actually made the distribution worse as there are now larger differences between stations. K-means did not give us centers that would equally distribute crimes."
   ]
  },
  {
   "attachments": {},
   "cell_type": "markdown",
   "metadata": {},
   "source": [
    "Another idea to try is maybe there are too much police stations in LA. What we can do is reduce the number of clusters k-means has to make."
   ]
  },
  {
   "cell_type": "code",
   "execution_count": null,
   "metadata": {},
   "outputs": [],
   "source": [
    "def cluster_la_crime(num_clusters):\n",
    "    kmeans = KMeans(n_clusters = num_clusters)\n",
    "    kmeans.fit(df_plot[[\"LON\", \"LAT\"]])\n",
    "\n",
    "    centers_df = pd.DataFrame(kmeans.cluster_centers_, columns=['Longitude', 'Latitude'])\n",
    "\n",
    "    fig, ax = plt.subplots(1, figsize = (18, 8))\n",
    "    map_df.boundary.plot(color='black', ax=ax)\n",
    "\n",
    "\n",
    "\n",
    "    df_plot[\"cluster\"] = kmeans.predict(df_plot[[\"LON\", \"LAT\"]])\n",
    "    df_plot.plot(ax=ax, x='LON', y='LAT', kind='scatter', c='cluster',  s=0.1, alpha=0.5, cmap='viridis')\n",
    "\n",
    "\n",
    "    LAPD_df.plot(ax=ax, x='Longitude', y='Latitude', kind='scatter', s=10, c='orange')\n",
    "    centers_df.plot(ax=ax, x='Longitude', y='Latitude', kind='scatter', s=10, c='blue') \n",
    "\n",
    "    fig, ax = plt.subplots(1)\n",
    "    df_plot[\"cluster\"].value_counts().plot(kind=\"barh\")"
   ]
  },
  {
   "cell_type": "code",
   "execution_count": null,
   "metadata": {},
   "outputs": [],
   "source": [
    "# decreasing centers \n",
    "cluster_la_crime(5)\n",
    "cluster_la_crime(10)\n",
    "cluster_la_crime(15)\n",
    "\n",
    "# increasing centers\n",
    "cluster_la_crime(30)\n",
    "cluster_la_crime(40)\n",
    "cluster_la_crime(50)"
   ]
  },
  {
   "attachments": {},
   "cell_type": "markdown",
   "metadata": {},
   "source": [
    "From the graphs, it seems that k-means will not give equal distributions of crime. "
   ]
  },
  {
   "attachments": {},
   "cell_type": "markdown",
   "metadata": {},
   "source": [
    "#### k means Analysis on Serious Crimes"
   ]
  },
  {
   "cell_type": "markdown",
   "metadata": {},
   "source": [
    "After using k means to analyze the reach of police stations using the whole data set, we decided that a good approach would be to narrow our crimes. Looking at crimes involving gun violence and explosive devices, we belived that our k means clusters could create more accurate centroids when looking at a more specific set of data.\n",
    "\n",
    "In order to filter by weapon type, we created a new dataframe from the original data and dropped any null values that appeared in that particular column. Let's take a look at the unique values that remain in the frame."
   ]
  },
  {
   "cell_type": "code",
   "execution_count": null,
   "metadata": {},
   "outputs": [],
   "source": [
    "df_crime = pd.concat([past_df, present_df])\n",
    "weapons = df_crime.dropna(subset=['Weapon Desc'])\n",
    "weapons['Weapon Desc'].unique()"
   ]
  },
  {
   "cell_type": "markdown",
   "metadata": {},
   "source": [
    "Now that we have a better idea of what weapons appear in the dataset, we can additionally filter by the particular firearms and explosive devices."
   ]
  },
  {
   "cell_type": "code",
   "execution_count": null,
   "metadata": {},
   "outputs": [],
   "source": [
    "severe = weapons[(weapons['Weapon Desc'].str.contains('RIFLE')) | \n",
    "        (weapons['Weapon Desc'].str.contains('PISTOL')) | \n",
    "       (weapons['Weapon Desc'].str.contains('ASSAULT RIFLE')) |\n",
    "       (weapons['Weapon Desc'].str.contains('BOMB')) |\n",
    "        (weapons['Weapon Desc'].str.contains('FIREARM')) |\n",
    "        (weapons['Weapon Desc'].str.contains('SHOTGUN')) |\n",
    "        (weapons['Weapon Desc'].str.contains('SEMIAUTOMATIC')) |\n",
    "        (weapons['Weapon Desc'].str.contains('EXPLOSIVE'))]\n",
    "severe = severe.loc[(severe['LAT'] >= 33.7) & (severe['LAT'] <= 34.37) & (severe['LON'] >= -118.7) & (severe['LON'] <= -118.15)]\n",
    "severe.head()['Weapon Desc']"
   ]
  },
  {
   "cell_type": "markdown",
   "metadata": {},
   "source": [
    "We can now begin our analysis using k means clustering on data that only contains our specified weapons."
   ]
  },
  {
   "cell_type": "code",
   "execution_count": null,
   "metadata": {},
   "outputs": [],
   "source": [
    "kmeans = KMeans(n_clusters=21)\n",
    "kmeans.fit(severe[[\"LON\", \"LAT\"]])"
   ]
  },
  {
   "cell_type": "markdown",
   "metadata": {},
   "source": [
    "We set up our map the same as before and consider the centroid locations when compared to the actual placement of police stations. We have kept the stations as blue points but now the centroids are red, and have noticably moved from their previous locations."
   ]
  },
  {
   "cell_type": "code",
   "execution_count": null,
   "metadata": {},
   "outputs": [],
   "source": [
    "centers_df = pd.DataFrame(kmeans.cluster_centers_, columns=['Longitude', 'Latitude'])\n",
    "\n",
    "map_df = gpd.read_file('LAPD_Divisions.shp')\n",
    "\n",
    "fig, ax = plt.subplots(1, figsize = (18, 8))\n",
    "map_df.boundary.plot(color='black', ax=ax)\n",
    "\n",
    "\n",
    "# labeling each crime to a cluster\n",
    "severe[\"cluster\"] = kmeans.predict(severe[[\"LON\", \"LAT\"]])\n",
    "severe.plot(ax=ax, x='LON', y='LAT', kind='scatter', c='cluster',  s=0.1, alpha=0.5, cmap='viridis')\n",
    "\n",
    "\n",
    "LAPD_df.plot(ax=ax, x='Longitude', y='Latitude', kind='scatter', s=10, c='red')\n",
    "centers_df.plot(ax=ax, x='Longitude', y='Latitude', kind='scatter', s=10, c='blue') "
   ]
  },
  {
   "cell_type": "markdown",
   "metadata": {},
   "source": [
    "We can now create bar plots again to compare the amount of severe crimes within a centroid vs the current police stations. We observe that the plots or more similar than in our earlier analysis which considered all crimes in Los Angeles."
   ]
  },
  {
   "cell_type": "code",
   "execution_count": null,
   "metadata": {},
   "outputs": [],
   "source": [
    "plt.figure(1, figsize=(18,10))\n",
    "plt.subplot(211)\n",
    "severe['cluster'].value_counts().plot(kind = 'barh', color = 'red', label = 'Centroids')\n",
    "plt.legend()\n",
    "plt.subplot(212)\n",
    "severe['AREA NAME'].value_counts().plot(kind = 'barh', color = 'blue', label = 'Police Stations')\n",
    "plt.legend()"
   ]
  },
  {
   "attachments": {},
   "cell_type": "markdown",
   "metadata": {},
   "source": [
    "Earlier we discovered that crime appeared to be somewhat evenly distributed among the 21 different police stations in Los Angeles, with our k means centroids creating a less balanced distribution. However, when considering crimes involving gun violence and explosives, our new centroids contain more even data than the actual police stations. This supports our notion that perhaps there are more efficient areas for police stations to be located in, for the sake of handling more crimes."
   ]
  },
  {
   "cell_type": "markdown",
   "metadata": {},
   "source": [
    "# Ethics & Privacy"
   ]
  },
  {
   "attachments": {},
   "cell_type": "markdown",
   "metadata": {},
   "source": [
    "One of the main bias issues in our dataset, is that it only contains reported crimes. Since crimes must be reported by police officers, they inherently are linked to the prescence of a nearby police station. While we would expect this to increase volume of crimes reported nearby police stations, our hypothesis goes against that expectation by assuming that the deterence of a police station will outweight this effect. In order to address this we will carefully word our analysis descriptions and take this into account in our conclusions. \n",
    "\n",
    "Another potential bias in our dataset is that since it is only covering the area of Los Angeles and might not be representative of crime in general for the rest of the state/nation; furthermore, our data could also have an imbalanced proportion of populations due to the nature of policing and crime. In particular, the overpolicing of low income and minority areas could skew our analyses results and present problematic solutions. To tackle this problem, we will carefully analyze for these patterns in our dataset and point them out if/when they arise, as well as preface our solutions with a warning.\n",
    "\n",
    "Privacy should be well protected because the records do not include the names of the victim or culprit. The only thing that links the crime to the people involved is the Division of Records Number serving as an ID of each crime. However only the Los Angeles Police Department has access to the records. In addition to this, the Los Angeles Police Department specified in the description that they round the addresses to the nearest hundred blocks to protect privacy."
   ]
  },
  {
   "cell_type": "markdown",
   "metadata": {},
   "source": [
    "# Conclusion & Discussion"
   ]
  },
  {
   "cell_type": "markdown",
   "metadata": {},
   "source": [
    "*Fill in your discussion information here*"
   ]
  },
  {
   "cell_type": "markdown",
   "metadata": {},
   "source": [
    "# Team Contributions"
   ]
  },
  {
   "cell_type": "markdown",
   "metadata": {},
   "source": [
    "*Specify who in your group worked on which parts of the project.*"
   ]
  }
 ],
 "metadata": {
  "kernelspec": {
   "display_name": "Python 3",
   "language": "python",
   "name": "python3"
  },
  "language_info": {
   "codemirror_mode": {
    "name": "ipython",
    "version": 3
   },
   "file_extension": ".py",
   "mimetype": "text/x-python",
   "name": "python",
   "nbconvert_exporter": "python",
   "pygments_lexer": "ipython3",
   "version": "3.8.5"
  }
 },
 "nbformat": 4,
 "nbformat_minor": 2
}
