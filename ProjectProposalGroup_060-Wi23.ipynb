{
 "cells": [
  {
   "cell_type": "markdown",
   "metadata": {},
   "source": [
    "# COGS 108 - Final Project Proposal"
   ]
  },
  {
   "attachments": {},
   "cell_type": "markdown",
   "metadata": {},
   "source": [
    "# Names\n",
    "- Alan Miyazaki\n",
    "- Alex Guan\n",
    "- Nathan Ahmann\n",
    "- Renaldy Herlim"
   ]
  },
  {
   "cell_type": "markdown",
   "metadata": {},
   "source": [
    "# Research Question"
   ]
  },
  {
   "attachments": {},
   "cell_type": "markdown",
   "metadata": {},
   "source": [
    "Does crime happen more or less frequently around police stations and can that knowledge be used to more effectively distribute police station locations?"
   ]
  },
  {
   "cell_type": "markdown",
   "metadata": {},
   "source": [
    "## Background and Prior Work"
   ]
  },
  {
   "attachments": {},
   "cell_type": "markdown",
   "metadata": {},
   "source": [
    "Los Angeles has solidified itself as a historic city in America, with positive connotations such as art and film, along with negative ones such as crime rate. The latter has especially had an impact on the culture surrounding the city, as policing of the area has only grown to be more controversial. The city has observed a wide variety of crimes, ranging from petty theft to mass shootings. Due to how controversial the policing of the country has been, especially with the increasing prevalence of movements like BLM, Los Angeles has had the effectiveness of its law enforcement questioned. NPR discusses this topic during Planet Money: \"When You Add More Police To A City, What Happens?\"[^NPR], which explores how effective mass policing is for cities with varying levels of crime. Economists appear to have evidence that increasing the police force for the average city helps to prevent crime overall, but this is not observed in certain areas with a larger Black population. While there is an increase in arrests for lower level crimes, it seems that the homicide rate is effectively left unchanged. The article points to areas in the South and Midwest with this description, so our group wanted to consider the West Coast and specifically Los Angeles.\n",
    "\n",
    "The Violence Project[^Violence] takes a comprehensive look at mass shootings from around the country in the past sixty years, with a total of 187 up to March 2021. The database contains over 200 different variables to preview, allowing someone to explore motivations, weapons, background, etc. The website directly provides the ability to filter through the list of shooters, and additionally contains statistics on how prevalent they are in the data. This project in particular is focused exclusively on mass shootings and contains less than 200 rows of data (thankfully), so we decided to expand our project to all forms of crime within LA county.\n",
    "\n",
    "With all of the former in mind, we settled on investigating how the proximity of police stations may impact the crime in certain parts of Los Angeles. A common train of thought is that less crime would happen around police stations because they would act as deterents against crime. One related study found that crime rate increased around areas where a police station closed [^blesee]. They suggested that this supported previous papers claiming that more police stations are effective at detering crime, but that the measurement of deterence is hard to calculate. Another paper found more some actual numbers, stating that police stations in Buenos Aires created a 500-600m zone of decreased crime [^fondevila]. This is more in line with what we would like to investigate. By considering location data, we can see if police station prescene has any effects on the number of crimes or on the types of crimes commited.\n",
    "\n",
    "[^blesse] Blesse, S., &amp; Diegmann, A. (2022). The place-based effects of police stations on crime: Evidence from station closures. Journal of Public Economics, 207, 104605. https://doi.org/10.1016/j.jpubeco.2022.104605 \n",
    "\n",
    "[^fondevila] Fondevila, G., Vilalta-Perdomo, C., Galindo Pérez, M. C., &amp; Cafferata, F. G. (2021). Crime deterrent effect of police stations. Applied Geography, 134, 102518. https://doi.org/10.1016/j.apgeog.2021.102518 \n",
    "\n",
    "[^NPR] Rosalsky, G. (2021, April 20). When you add more police to a city, what happens? NPR. Retrieved March 5, 2023, from https://www.npr.org/sections/money/2021/04/20/988769793/when-you-add-more-police-to-a-city-what-happens \n",
    "\n",
    "[^Violence] Most comprehensive mass shooter database. The Violence Project. (2023, January 31). Retrieved March 5, 2023, from https://www.theviolenceproject.org/mass-shooter-database/ \n"
   ]
  },
  {
   "cell_type": "markdown",
   "metadata": {},
   "source": [
    "# Hypothesis\n"
   ]
  },
  {
   "attachments": {},
   "cell_type": "markdown",
   "metadata": {},
   "source": [
    "\n",
    "We believe that less crime will happen closer to police stations which would imply that the presence of a police station deters crime. If criminal activity happens less around police stations then it would be important to effectively spread out police stations in order to minimize crime rate as a whole."
   ]
  },
  {
   "cell_type": "markdown",
   "metadata": {},
   "source": [
    "# Data"
   ]
  },
  {
   "attachments": {},
   "cell_type": "markdown",
   "metadata": {},
   "source": [
    "We would need at least 2 datasets in order to answer our question. One of the datasets would simply be a list of police stations. We would need to know the location of each station and ideally would have a very precise measurement for the location so that we can accurately determine distances using it.\n",
    "\n",
    "The other dataset would consist of crime data. Most importantly it would contain the location information of the crime, again, as precise as possible for calculations. Additionally, it would be nice to have information on what police station had jurisdiction over the crime so we could see if it matches up with any distance calculation. Lastly, we could do further analysis if the crime data contained information about the type of crime or other details that could be used for more in-depth analysis.\n",
    "\n",
    "Both of these datasets are feasible to find. Many cities post crime data and often include some form of location for the crime, whether it be district or nearby street intersection. Additionally, information of police station locations is public and can be found on GPS services even if an explicity dataset does not exist for a city."
   ]
  },
  {
   "cell_type": "markdown",
   "metadata": {},
   "source": [
    "# Ethics & Privacy"
   ]
  },
  {
   "attachments": {},
   "cell_type": "markdown",
   "metadata": {},
   "source": [
    "One of the main bias issues in our dataset, is that it only contains reported crimes. Since crimes must be reported by police officers, they inherently are linked to the prescence of a nearby police station. While we would expect this to increase volume of crimes reported nearby police stations, our hypothesis goes against that expectation by assuming that the deterence of a police station will outweight this effect. In order to address this we will carefully word our analysis descriptions and take this into account in our conclusions. \n",
    "\n",
    "Another potential bias in our dataset is that since it is only covering the area of Los Angeles and might not be representative of crime in general for the rest of the state/nation; furthermore, our data could also have an imbalanced proportion of populations due to the nature of policing and crime. In particular, the overpolicing of low income and minority areas could skew our analyses results and present problematic solutions. To tackle this problem, we will carefully analyze for these patterns in our dataset and point them out if/when they arise, as well as preface our solutions with a warning.\n",
    "\n",
    "Privacy should be well protected because the records do not include the names of the victim or culprit. The only thing that links the crime to the people involved is the Division of Records Number serving as an ID of each crime. However only the Los Angeles Police Department has access to the records. In addition to this, the Los Angeles Police Department specified in the description that they round the addresses to the nearest hundred blocks to protect privacy."
   ]
  },
  {
   "cell_type": "markdown",
   "metadata": {},
   "source": [
    "# Team Expectations "
   ]
  },
  {
   "attachments": {},
   "cell_type": "markdown",
   "metadata": {},
   "source": [
    "Our team plans to use Discord as our primary means of communication. \n",
    "\n",
    "We expect everyone to:\n",
    "* Respond in a timely manner (24 hours)\n",
    "* Complete tasks asked of them or communicate issues before the last minute\n",
    "* Ask for help if they need it"
   ]
  },
  {
   "cell_type": "markdown",
   "metadata": {},
   "source": [
    "# Project Timeline Proposal"
   ]
  },
  {
   "attachments": {},
   "cell_type": "markdown",
   "metadata": {},
   "source": [
    "| Meeting Date  | Meeting Time| Completed Before Meeting  | Discuss at Meeting |\n",
    "|---|---|---|---|\n",
    "| 3/5/2023   |  6 PM | Figure out datasets and research questions  | Checkpoint and Project Proposal | \n",
    "| 3/13/2023  |  6 PM | Check deadlines and requirements for Checkpoint 2 | Check-in on progress for Checkpoint 2 | \n",
    "| 3/18/2023  |  6 PM | Check deadlines and requirements for the Final Project | Check-in on progress for the Final Project |    \n",
    "| 3/23/2023  |  6 PM | Finish and Clean up Project and Reports | Discuss about the Final Project code and report <br />  Record the 3-5 minute project video for submission | Discuss about the Final Project code and report Record the 3-5 minute video for submission |   \n",
    "| 3/24/2023  |  6 PM | Finish everything left | Turn in the Final Project if not yet turned in |   "
   ]
  }
 ],
 "metadata": {
  "kernelspec": {
   "display_name": "Python 3",
   "language": "python",
   "name": "python3"
  },
  "language_info": {
   "codemirror_mode": {
    "name": "ipython",
    "version": 3
   },
   "file_extension": ".py",
   "mimetype": "text/x-python",
   "name": "python",
   "nbconvert_exporter": "python",
   "pygments_lexer": "ipython3",
   "version": "3.8.8"
  }
 },
 "nbformat": 4,
 "nbformat_minor": 2
}
