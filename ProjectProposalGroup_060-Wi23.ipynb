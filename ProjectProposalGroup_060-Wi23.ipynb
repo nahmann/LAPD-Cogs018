{
 "cells": [
  {
   "cell_type": "markdown",
   "metadata": {},
   "source": [
    "# COGS 108 - Final Project Proposal"
   ]
  },
  {
   "attachments": {},
   "cell_type": "markdown",
   "metadata": {},
   "source": [
    "# Names\n",
    "- Alan Miyazaki\n",
    "- Alex Guan\n",
    "- Nathan Ahmann\n",
    "- Renaldy Herlim"
   ]
  },
  {
   "cell_type": "markdown",
   "metadata": {},
   "source": [
    "# Research Question"
   ]
  },
  {
   "attachments": {},
   "cell_type": "markdown",
   "metadata": {},
   "source": [
    "Does crime happen more or less frequently around police stations and can that knowledge be used to more effectively distribute police station locations?"
   ]
  },
  {
   "cell_type": "markdown",
   "metadata": {},
   "source": [
    "## Background and Prior Work"
   ]
  },
  {
   "cell_type": "markdown",
   "metadata": {},
   "source": [
    "\n",
    "- Include a general introduction to your topic\n",
    "- Include explanation of what work has been done previously\n",
    "- Include citations or links to previous work\n",
    "\n",
    "This section will present the background and context of your topic and question in a few paragraphs. Include a general introduction to your topic and then describe what information you currently know about the topic after doing your initial research. Include references to other projects who have asked similar questions or approached similar problems. Explain what others have learned in their projects.\n",
    "\n",
    "Find some relevant prior work, and reference those sources, summarizing what each did and what they learned. Even if you think you have a totally novel question, find the most similar prior work that you can and discuss how it relates to your project.\n",
    "\n",
    "References can be research publications, but they need not be. Blogs, GitHub repositories, company websites, etc., are all viable references if they are relevant to your project. It must be clear which information comes from which references. (2-3 paragraphs, including at least 2 references)\n",
    "\n",
    " **Use inline citation through Markdown footnotes to specify which references support which statements** \n",
    "\n",
    "For example: After government genocide in the 20th century, real birds were replaced with surveillance drones designed to look just like birds[^lorenz]. \n",
    "Use a minimum of 2 or 3 citations, but we prefer more[^admonish]. You need enough to fully explain and back up important facts. \n",
    "\n",
    "[^lorenz]: Lorenz, T. (9 Dec 2021) Birds Aren’t Real, or Are They? Inside a Gen Z Conspiracy Theory. *The New York Times*. https://www.nytimes.com/2021/12/09/technology/birds-arent-real-gen-z-misinformation.html \n",
    "[^admonish]: Also refs should be important to the background, not some randomly chosen vaguely related stuff. Include a web link if possible in refs as above.\n"
   ]
  },
  {
   "cell_type": "markdown",
   "metadata": {},
   "source": [
    "# Hypothesis\n"
   ]
  },
  {
   "attachments": {},
   "cell_type": "markdown",
   "metadata": {},
   "source": [
    "\n",
    "We believe that less crime will happen closer to police stations which would imply that the presence of a police station deters crime. If criminal activity happens less around police stations then it would be important to effectively spread out police stations in order to minimize crime rate as a whole."
   ]
  },
  {
   "cell_type": "markdown",
   "metadata": {},
   "source": [
    "# Data"
   ]
  },
  {
   "attachments": {},
   "cell_type": "markdown",
   "metadata": {},
   "source": [
    "We would need at least 2 datasets in order to answer our question. One of the datasets would simply be a list of police stations. We would need to know the location of each station and ideally would have a very precise measurement for the location so that we can accurately determine distances using it.\n",
    "\n",
    "The other dataset would consist of crime data. Most importantly it would contain the location information of the crime, again, as precise as possible for calculations. Additionally, it would be nice to have information on what police station had jurisdiction over the crime so we could see if it matches up with any distance calculation. Lastly, we could do further analysis if the crime data contained information about the type of crime or other details that could be used for more in-depth analysis.\n",
    "\n",
    "Both of these datasets are feasible to find. Many cities post crime data and often include some form of location for the crime, whether it be district or nearby street intersection. Additionally, information of police station locations is public and can be found on GPS services even if an explicity dataset does not exist for a city."
   ]
  },
  {
   "cell_type": "markdown",
   "metadata": {},
   "source": [
    "# Ethics & Privacy"
   ]
  },
  {
   "cell_type": "markdown",
   "metadata": {},
   "source": [
    "One potential problem/bias in the dataset is that it will only include criminal activity of reported crimes. This means that by default the crimes had to be caught and would likely be close to police stations in order for them to respond. Areas not covered well by police stations would likely allow some crimes to slip under the radar. \n"
    "Since our question directly compares crimes close and far from police stations this could prove problematic and go against our hypothesis. We will handle this issue by being careful in our wording to not be misleading to readers, as well as provide visualizations that presents this bias/problem clearly to readers.\n"
    "Another potential bias in our dataset is that since it is only covering the area of Los Angeles, it might not be representative of crime in general for the rest of the state/nation, furthermore, our data could also have an imbalanced proportion of populations due to the nature of policing and crime, in particular, the overpolicing of low income and minority areas could skew our analyses results and present problematic solutions.\n" 
    "To tackle this problem, we will carefully analyze for these patterns in our dataset and point them out if/when they arise, as well as preface our solutions with a warning.\n"
    "Privacy should be well protected because the records do not include the names of the victim or culprit. The only thing that links the crime to the people involved is the Division of Records Number serving as an ID of each crime. However only the Los Angeles Police Department has access to the records. In addition to this, the Los Angeles Police Department specified in the description that they round the addresses to the nearest hundred blocks to protect privacy."
   ]
  },
  {
   "attachments": {},
   "cell_type": "markdown",
   "metadata": {},
   "source": [
    "#### not sure where this should go but worth mentioning\n",
    "\n",
    "One potential problem/bias in the dataset is that it will only include criminal activity of reported crimes. This means that by default the crimes had to be caught and would likely be close to police stations in order for them to respond. Areas not covered well by police stations would likely allow some crimes to slip under the radar. Since our question directly compares crimes close and far from police stations this could prove problematic and go against our hypothesis."
   ]
  },
  {
   "cell_type": "markdown",
   "metadata": {},
   "source": [
    "# Team Expectations "
   ]
  },
  {
   "attachments": {},
   "cell_type": "markdown",
   "metadata": {},
   "source": [
    "Our team plans to use Discord as our primary means of communication. \n",
    "\n",
    "We expect everyone to:\n",
    "* Respond in a timely manner (24 hours)\n",
    "* Complete tasks asked of them or communicate issues before the last minute\n",
    "* Ask for help if they need it"
   ]
  },
  {
   "cell_type": "markdown",
   "metadata": {},
   "source": [
    "# Project Timeline Proposal"
   ]
  },
  {
   "attachments": {},
   "cell_type": "markdown",
   "metadata": {},
   "source": [
    "| Meeting Date  | Meeting Time| Completed Before Meeting  | Discuss at Meeting |\n",
    "|---|---|---|---|\n",
    "| 3/5/2023   |  6 PM | Figure out datasets and research questions  | Checkpoint and Project Proposal | \n",
    "| 3/13/2023  |  6 PM | Check deadlines and requirements for Checkpoint 2 | Check-in on progress for Checkpoint 2 | \n",
    "| 3/18/2023  |  6 PM | Check deadlines and requirements for the Final Project | Check-in on progress for the Final Project |    \n",
    "| 3/23/2023  |  6 PM | Finish and Clean up Project and Reports | Discuss about the Final Project code and report <br />  Record the 3-5 minute project video for submission | Discuss about the Final Project code and report Record the 3-5 minute video for submission |   \n",
    "| 3/24/2023  |  6 PM | Finish everything left | Turn in the Final Project if not yet turned in |   "
   ]
  }
 ],
 "metadata": {
  "kernelspec": {
   "display_name": "Python 3",
   "language": "python",
   "name": "python3"
  },
  "language_info": {
   "codemirror_mode": {
    "name": "ipython",
    "version": 3
   },
   "file_extension": ".py",
   "mimetype": "text/x-python",
   "name": "python",
   "nbconvert_exporter": "python",
   "pygments_lexer": "ipython3",
   "version": "3.8.8"
  }
 },
 "nbformat": 4,
 "nbformat_minor": 2
}
