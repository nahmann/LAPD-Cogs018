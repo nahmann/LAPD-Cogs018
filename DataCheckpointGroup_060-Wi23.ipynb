{
 "cells": [
  {
   "cell_type": "markdown",
   "metadata": {},
   "source": [
    "# COGS 108 - Data Checkpoint"
   ]
  },
  {
   "attachments": {},
   "cell_type": "markdown",
   "metadata": {},
   "source": [
    "# Names\n",
    "- Alan Miyazaki\n",
    "- Alex Guan\n",
    "- Nathan Ahmann\n",
    "- Renaldy Herlim"
   ]
  },
  {
   "cell_type": "markdown",
   "metadata": {},
   "source": [
    "<a id='research_question'></a>\n",
    "# Research Question"
   ]
  },
  {
   "attachments": {},
   "cell_type": "markdown",
   "metadata": {},
   "source": [
    "Does crime happen more or less frequently around police stations and can that knowledge be used to more effectively distribute police station locations?"
   ]
  },
  {
   "cell_type": "markdown",
   "metadata": {},
   "source": [
    "# Dataset(s)"
   ]
  },
  {
   "attachments": {},
   "cell_type": "markdown",
   "metadata": {},
   "source": [
    "### Dataset 1: Los Angeles Police Station Location\n",
    "[Link to dataset](https://geohub.lacity.org/datasets/lapd-police-stations)  \n",
    "Number of observations: 21\n",
    "\n",
    "This dataset contains information on all 21 of LA City's Police Stations. If we find that our crime data extends past the city or want a more precise location, then we might make use of the extended data for LA county that includes more Police Stations and additioanlly includes Sheriff stations.\n",
    "\n",
    "Each row of the dataset contains information for one police station.  \n",
    "The relevant columns are:\n",
    "* DIVISION - the division the police station is under\n",
    "* LOCATION - an address for the police station. Since we would rather have a more precise location we might convert these to latitude/longitude or use the alternative dataset.\n",
    "* PREC - the precinct each station is in charge of \n",
    "\n",
    "\n",
    "#### Alternate Dataset that is for the entire LA county and includes Sheriff Stations:  \n",
    "[Link to alternate dataset](https://geohub.lacity.org/datasets/lacounty::sheriff-and-police-stations)  \n",
    "Number of observations: 105\n",
    "\n",
    "This dataset contains information on 105 of LA County's Police and Sheriff Stations. It contains more data than the above dataset, but some of the information might not be necessary so we listed it as an alternative.\n",
    "\n",
    "Each row of the dataset contains information for one police or sheriff station.  \n",
    "The relevant columns are:\n",
    "* cat3 - Category 3 has a distinction between sheriff and police stations\n",
    "* latitude, longitude - self explanatory\n",
    "* addrln1 - address line 1 contains an address we could use for locaiton instead of latitude, longitude\n",
    "* city - Contains the city so we could narrow it down to LA city\n",
    "\n",
    "\n",
    "### Dataset 2: Los Angeles Crime Data from 2020 to Present (March 1st 2023)  \n",
    "[Link to dataset](https://data.lacity.org/Public-Safety/Crime-Data-from-2020-to-Present/2nrs-mtv8) \n",
    "  \n",
    "Number of observations: 673,367 \n",
    "\n",
    "This dataset includes information on crimes that took place in Los Angeles between 2020 and March 1st 2023.\n",
    "Since Dataset 2 and 3 have the same columns, the row information and relevant column is below.\n",
    "\n",
    "### Dataset 3: Los Angeles Crime Data from 2010 to 2019\n",
    "[Link to dataset](https://data.lacity.org/Public-Safety/Crime-Data-from-2010-to-2019/63jg-8b9z)\n",
    "  \n",
    "Number of observations: 2,119,797 \n",
    "\n",
    "This dataset includes information on crimes that took place in Los Angeles between 2010 and 2019.  \n",
    "\n",
    "Each row represents a single crime that took place.\n",
    "The relevant columns are:\n",
    "* DR_NO - Divisions of Records number. Acts as an unique ID for the crime\n",
    "* DATE_OCC - The date that the crime occured\n",
    "* AREA - contains the geographic area code for the police station. These are 1-21 and correspond to 1 of the 21 police stations.\n",
    "* Crm Cd Desc - description of the criminal code. Essentially a human readable crime category\n",
    "* LOCATION - street address the crime took place at\n",
    "* LAT, LONG - latitude and longitude\n",
    "\n",
    "### Combining the Datasets\n",
    "\n",
    "Dataset 1 will be our police station information so it will stay as it's own dataset. In our analysis we will use it in conjunction with the other datasets via location data, which will likely be latitude/longitude.\n",
    "\n",
    "Dataset 2 and 3 contain our crime data. Due to coming from the same source, they are quite easy to combine and contain the same columns so we can simply concatenate them together."
   ]
  },
  {
   "cell_type": "markdown",
   "metadata": {},
   "source": [
    "# Setup"
   ]
  },
  {
   "cell_type": "code",
   "execution_count": 1,
   "metadata": {},
   "outputs": [],
   "source": [
    "import pandas as pd"
   ]
  },
  {
   "cell_type": "markdown",
   "metadata": {},
   "source": [
    "# Data Cleaning"
   ]
  },
  {
   "cell_type": "markdown",
   "metadata": {},
   "source": [
    "Describe your data cleaning steps here."
   ]
  },
  {
   "cell_type": "code",
   "execution_count": 2,
   "metadata": {},
   "outputs": [],
   "source": [
    "# Reading datasets from two different time periods\n",
    "\n",
    "# https://data.lacity.org/Public-Safety/Crime-Data-from-2010-to-2019/63jg-8b9z\n",
    "past_df = pd.read_csv(\"Crime_Data_from_2010_to_2019.csv\")\n",
    "# https://data.lacity.org/Public-Safety/Crime-Data-from-2020-to-Present/2nrs-mtv8\n",
    "present_df = pd.read_csv(\"Crime_Data_from_2020_to_Present.csv\")\n",
    "\n",
    "# past dataset has column name typo\n",
    "past_df = past_df.rename(columns={\"AREA \": \"AREA\"})\n",
    "\n",
    "# Both datasets use the same columns \n",
    "df = pd.concat([past_df, present_df])"
   ]
  },
  {
   "cell_type": "code",
   "execution_count": 6,
   "metadata": {},
   "outputs": [],
   "source": [
    "# Dropping code columns since these are internal use and we don't get much \n",
    "# value from them given we have their description in a seperate column\n",
    "df = df.drop(columns=[\n",
    "    \"Crm Cd\", \"Crm Cd 1\", \"Crm Cd 2\", \"Crm Cd 3\", \n",
    "    \"Crm Cd 4\", \"Premis Cd\", \"Weapon Used Cd\"\n",
    "    ])"
   ]
  }
 ],
 "metadata": {
  "kernelspec": {
   "display_name": "Python 3",
   "language": "python",
   "name": "python3"
  },
  "language_info": {
   "codemirror_mode": {
    "name": "ipython",
    "version": 3
   },
   "file_extension": ".py",
   "mimetype": "text/x-python",
   "name": "python",
   "nbconvert_exporter": "python",
   "pygments_lexer": "ipython3",
   "version": "3.10.10"
  }
 },
 "nbformat": 4,
 "nbformat_minor": 2
}
